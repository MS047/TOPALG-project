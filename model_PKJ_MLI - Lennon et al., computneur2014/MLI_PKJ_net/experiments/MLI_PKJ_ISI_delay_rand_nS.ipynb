{
 "cells": [
  {
   "cell_type": "code",
   "execution_count": 1,
   "metadata": {
    "collapsed": false
   },
   "outputs": [
    {
     "data": {
      "text/plain": [
       "'\\nthe goal of this experiment is to reproduce the results of Figure 5 \\nfrom Hausser and Clark (1997) where the effect of an IPSC from a \\npresynaptic MLI increases the variance of the PKJ ISI\\n'"
      ]
     },
     "execution_count": 1,
     "metadata": {},
     "output_type": "execute_result"
    }
   ],
   "source": [
    "'''\n",
    "the goal of this experiment is to reproduce the results of Figure 5 \n",
    "from Hausser and Clark (1997) where the effect of an IPSC from a \n",
    "presynaptic MLI increases the variance of the PKJ ISI\n",
    "'''"
   ]
  },
  {
   "cell_type": "code",
   "execution_count": 2,
   "metadata": {
    "collapsed": false
   },
   "outputs": [
    {
     "name": "stderr",
     "output_type": "stream",
     "text": [
      "/Users/maximebeau/anaconda2/lib/python2.7/site-packages/matplotlib/font_manager.py:273: UserWarning: Matplotlib is building the font cache using fc-list. This may take a moment.\n",
      "  warnings.warn('Matplotlib is building the font cache using fc-list. This may take a moment.')\n"
     ]
    }
   ],
   "source": [
    "import datetime\n",
    "import os\n",
    "import gc\n",
    "import multiprocessing\n",
    "from itertools import repeat\n",
    "from brian import *\n",
    "import sys\n",
    "sys.path.append('../../')\n",
    "from MLI_PKJ_net import *\n",
    "import cPickle\n",
    "import time\n",
    "set_global_preferences(useweave=True, usenewpropagate=True, usecodegen=True, usecodegenweave=True)\n",
    "defaultclock.dt = .25*ms"
   ]
  },
  {
   "cell_type": "code",
   "execution_count": 3,
   "metadata": {
    "collapsed": true
   },
   "outputs": [],
   "source": [
    "def run_net((k,theta,T,g_inh_,spike_delay)):\n",
    "    seed(int(os.getpid()*time.time()))\n",
    "    print os.getpid()\n",
    "    reinit()\n",
    "    reinit_default_clock()\n",
    "    clear(True)\n",
    "    gc.collect()\n",
    "    \n",
    "    g_inh = g_inh_*rand()\n",
    "    \n",
    "    PKJ = PurkinjeCellGroup(1)\n",
    "    PKJ.V = PKJ.El\n",
    "    \n",
    "    spikes = SpikeMonitor(PKJ)\n",
    "    spikes.last_spike = None\n",
    "    V_monitor = StateMonitor(PKJ,'V',record=0)\n",
    "    ginh_monitor = StateMonitor(PKJ, 'g_inh', record=0)\n",
    "    \n",
    "    @network_operation(Clock(dt=defaultclock.dt))\n",
    "    def random_current():\n",
    "        PKJ.I = gamma(k,theta,size=len(PKJ)) * nA\n",
    "        \n",
    "    @network_operation(Clock(dt=defaultclock.dt))\n",
    "    def trigger_spike():\n",
    "        if spikes.spiketimes[0].shape[0] > 0:\n",
    "            spikes.last_spike = spikes.spiketimes[0][-1]*second\n",
    "        if spikes.last_spike is not None:\n",
    "            if abs(defaultclock.t - (spikes.last_spike + spike_delay)) < .000001*ms:\n",
    "                PKJ.g_inh = g_inh\n",
    "        \n",
    "    run(T)\n",
    "\n",
    "    V_monitor.insert_spikes(spikes)\n",
    "    first_isi = diff(spikes.spiketimes[0])[0]\n",
    "    \n",
    "    return V_monitor.getvalues(), first_isi, spikes.spiketimes, g_inh\n",
    "\n"
   ]
  },
  {
   "cell_type": "code",
   "execution_count": null,
   "metadata": {
    "collapsed": true
   },
   "outputs": [],
   "source": [
    "if __name__ == \"__main__\":\n",
    "    k, theta, T, g_inh_max, delay = 0.430303, 0.195962, .08*second, 10*nS, 12*ms\n",
    "    params = tuple([k,theta,T,g_inh_max,delay])\n",
    "    plist = []\n",
    "    for i in range(1000):\n",
    "        plist.append(params)\n",
    "    pool = multiprocessing.Pool(6)\n",
    "    results = pool.map(run_net, plist)\n",
    "    \n",
    "    out_dir = '~/data/neuron_models/molecular_layer/MLI_PKJ_ISI_delay_rand_nS/%s/' % datetime.datetime.now().isoformat()\n",
    "    os.makedirs(out_dir)\n",
    "    \n",
    "    # write parameters to file\n",
    "    with open(out_dir+'parameters.txt','w') as outf:\n",
    "        outf.write('\\t'.join(['k','theta','T','g_inh_max','delay','dt'])+'\\n')\n",
    "        outf.write('\\t'.join(map(str,params))+'\\t'+str(defaultclock.dt))\n",
    "    \n",
    "    # write voltage traces, isis and spike times\n",
    "    cPickle.dump([r[0][0] for r in results],open(out_dir+'traces.pkl','w'))\n",
    "    cPickle.dump([r[1] for r in results],open(out_dir+'isis.pkl','w'))\n",
    "    cPickle.dump([r[2][0] for r in results],open(out_dir+'spikes.pkl','w'))\n",
    "    cPickle.dump([r[3] for r in results],open(out_dir+'g_inh.pkl','w'))"
   ]
  }
 ],
 "metadata": {
  "anaconda-cloud": {},
  "kernelspec": {
   "display_name": "Python [Root]",
   "language": "python",
   "name": "Python [Root]"
  },
  "language_info": {
   "codemirror_mode": {
    "name": "ipython",
    "version": 2
   },
   "file_extension": ".py",
   "mimetype": "text/x-python",
   "name": "python",
   "nbconvert_exporter": "python",
   "pygments_lexer": "ipython2",
   "version": "2.7.12"
  }
 },
 "nbformat": 4,
 "nbformat_minor": 0
}
