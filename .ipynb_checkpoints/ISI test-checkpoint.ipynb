{
 "cells": [
  {
   "cell_type": "code",
   "execution_count": 1,
   "metadata": {
    "collapsed": false,
    "scrolled": true
   },
   "outputs": [
    {
     "ename": "SyntaxError",
     "evalue": "invalid syntax (<ipython-input-1-ab5488f1b9f5>, line 1)",
     "output_type": "error",
     "traceback": [
      "\u001b[0;36m  File \u001b[0;32m\"<ipython-input-1-ab5488f1b9f5>\"\u001b[0;36m, line \u001b[0;32m1\u001b[0m\n\u001b[0;31m    <h2>Experiments with MLI& PKJ ISIs</h2>\u001b[0m\n\u001b[0m    ^\u001b[0m\n\u001b[0;31mSyntaxError\u001b[0m\u001b[0;31m:\u001b[0m invalid syntax\n"
     ]
    }
   ],
   "source": [
    "<h2>Experiments with MLI& PKJ ISIs</h2>\n",
    "    \n",
    "This notebook sets up the network of MLIs and PKJs, runs it and collects data on the activity.  Plots of the ISIs, spike autocorrelograms, etc are plotted."
   ]
  },
  {
   "cell_type": "code",
   "execution_count": 2,
   "metadata": {
    "collapsed": false
   },
   "outputs": [
    {
     "name": "stderr",
     "output_type": "stream",
     "text": [
      "/Users/maximebeau/anaconda2/lib/python2.7/site-packages/matplotlib/font_manager.py:273: UserWarning: Matplotlib is building the font cache using fc-list. This may take a moment.\n",
      "  warnings.warn('Matplotlib is building the font cache using fc-list. This may take a moment.')\n"
     ]
    }
   ],
   "source": [
    "%load_ext autoreload\n",
    "%autoreload 2\n",
    "import datetime\n",
    "import os\n",
    "from brian import *\n",
    "\n",
    "import sys\n",
    "sys.path.append('/Users/maximebeau/Desktop/Science/4_Stage_UCL_WIBR_HAUSSER/My_project/model_PKJ_MLI - Lennon et al., computneur2014')\n",
    "from MLI_PKJ_net import *\n",
    "sys.path.append('/Users/maximebeau/Desktop/Science/4_Stage_UCL_WIBR_HAUSSER/My_project')\n",
    "from MLI_net_personal import *\n",
    "sys.path.append('/Users/maximebeau/Desktop/Science/4_Stage_UCL_WIBR_HAUSSER/My_project/MLI_net_personal')\n",
    "from molecular_layer_geometric import *\n",
    "\n",
    "import cPickle\n",
    "import time\n",
    "set_global_preferences(useweave=True, usenewpropagate=True, usecodegen=True, usecodegenweave=True)\n",
    "defaultclock.dt = .25*ms\n",
    "from statsmodels.tsa.stattools import acf\n",
    "from pandas import *"
   ]
  },
  {
   "cell_type": "code",
   "execution_count": 3,
   "metadata": {
    "collapsed": false
   },
   "outputs": [
    {
     "name": "stderr",
     "output_type": "stream",
     "text": [
      "brian.stateupdater: WARNING  Using codegen CStateUpdater\n",
      "brian.stateupdater: WARNING  Using codegen CStateUpdater\n"
     ]
    }
   ],
   "source": [
    "load_saved_synapses = False\n",
    "save_results = False\n",
    "\n",
    "T = 300*second\n",
    "# N_MLI = 160\n",
    "N_PKJ = 16\n",
    "# MLI = MLIGroup(N_MLI)\n",
    "PKJ = PurkinjeCellGroup(N_PKJ)\n",
    "\n",
    "N_MLI_geometric_OX=16 # MLItable \"columns\" : len(MLItable[0])\n",
    "N_MLI_geometric_OY=10 # MLItable \"raws\" : len(MLItable)\n",
    "N_MLI=N_MLI_geometric_OX*N_MLI_geometric_OY\n",
    "GeometricMLI = Geometric_MLI(N_MLI)\n",
    "MLItable = create_MLItable(GeometricMLI, N_MLI_geometric_OX, N_MLI_geometric_OY)"
   ]
  },
  {
   "cell_type": "code",
   "execution_count": 4,
   "metadata": {
    "collapsed": false
   },
   "outputs": [
    {
     "name": "stdout",
     "output_type": "stream",
     "text": [
      "Convergences\n",
      "MLI->PKJ convergence:  20.5625\n",
      "MLI->MLI convergence:  3.83125\n",
      "PKJ->MLI-BS convergence:  0.2625\n",
      "\n",
      "Divergences\n",
      "MLI->PKJ divergence:  2.05625\n",
      "MLI->MLI divergence:  3.83125\n",
      "PKJ->MLI-BS divergence:  2.625\n"
     ]
    }
   ],
   "source": [
    "# synaptic weights\n",
    "w_mli_pkj = 1.25\n",
    "w_mli_mli = 1.\n",
    "w_pkj_mli = 1.\n",
    "\n",
    "# Synapses\n",
    "S_MLI_PKJ = Synapses(MLI,PKJ,model='w:1',pre='g_inh+=PKJ.g_inh_*w')\n",
    "S_MLI_MLI = Synapses(MLI,MLI,model='w:1',pre='g_inh+=MLI.g_inh_*w')\n",
    "S_PKJ_MLI = Synapses(PKJ,MLI,model='w:1',pre='g_inh+=MLI.g_inh_*w')\n",
    "\n",
    "# Connections\n",
    "if load_saved_synapses:\n",
    "    syn_dir = './'\n",
    "    S_MLI_PKJ = load_synapses(S_MLI_PKJ, 'S_MLI_PKJ', syn_dir)\n",
    "    S_MLI_MLI = load_synapses(S_MLI_MLI, 'S_MLI_MLI', syn_dir)\n",
    "    S_PKJ_MLI = load_synapses(S_PKJ_MLI, 'S_PKJ_MLI', syn_dir)\n",
    "else:\n",
    "    connect_mli_pkj(S_MLI_PKJ,pkj_dist=8,syn_prob=.25)\n",
    "    connect_mli_mli(S_MLI_MLI,dist=80,syn_prob=.05)\n",
    "    S_PKJ_MLI[:,:] = '((j/(N_MLI/N_PKJ)-i)%N_PKJ <= 2) & ((j/(N_MLI/N_PKJ)-i)%N_PKJ > 0) & (j%(N_MLI/N_PKJ)<3) & (rand()<.5)'\n",
    "    S_MLI_PKJ.w[:,:] = 'rand()*w_mli_pkj'\n",
    "    S_MLI_MLI.w[:,:] = 'rand()*w_mli_mli'\n",
    "    S_PKJ_MLI.w[:,:] = 'rand()*w_pkj_mli'\n",
    "\n",
    "\n",
    "print 'Convergences'\n",
    "print 'MLI->PKJ convergence: ', len(S_MLI_PKJ)/float(N_PKJ)\n",
    "print 'MLI->MLI convergence: ', len(S_MLI_MLI)/float(N_MLI)\n",
    "print 'PKJ->MLI-BS convergence: ', len(S_PKJ_MLI)/(float(N_MLI))\n",
    "print '\\nDivergences'\n",
    "print 'MLI->PKJ divergence: ', len(S_MLI_PKJ)/float(N_MLI)\n",
    "print 'MLI->MLI divergence: ', len(S_MLI_MLI)/float(N_MLI)\n",
    "print 'PKJ->MLI-BS divergence: ', len(S_PKJ_MLI)/float(N_PKJ)"
   ]
  },
  {
   "cell_type": "code",
   "execution_count": 5,
   "metadata": {
    "collapsed": false
   },
   "outputs": [],
   "source": [
    "@network_operation(Clock(dt=defaultclock.dt))\n",
    "def random_current():\n",
    "    MLI.I = gamma(3.966333,0.006653,size=len(MLI)) * nA\n",
    "    PKJ.I = gamma(0.430303,0.195962,size=len(PKJ)) * nA"
   ]
  },
  {
   "cell_type": "code",
   "execution_count": 6,
   "metadata": {
    "collapsed": false
   },
   "outputs": [
    {
     "name": "stdout",
     "output_type": "stream",
     "text": [
      "396.550599813\n"
     ]
    }
   ],
   "source": [
    "# Monitor\n",
    "MS_MLI = SpikeMonitor(MLI)\n",
    "MR_MLI = PopulationRateMonitor(MLI,bin=1*ms)\n",
    "MISI_MLI = ISIHistogramMonitor(MLI,bins=arange(0,162,2)*ms)\n",
    "MV_MLI = StateMonitor(MLI, 'V', record=range(N_MLI))\n",
    "\n",
    "MS_PKJ = SpikeMonitor(PKJ)\n",
    "MR_PKJ = PopulationRateMonitor(PKJ,bin=1*ms)\n",
    "MISI_PKJ = ISIHistogramMonitor(PKJ,bins=arange(0,162,2)*ms)\n",
    "MV_PKJ = StateMonitor(PKJ, 'V', record=range(N_PKJ))\n",
    "\n",
    "start = time.time()\n",
    "run(T)\n",
    "print time.time() - start"
   ]
  },
  {
   "cell_type": "code",
   "execution_count": 7,
   "metadata": {
    "collapsed": false
   },
   "outputs": [],
   "source": [
    "if save_results: \n",
    "    # save monitors for reproducibility\n",
    "    monitors = {'MS_MLI':MS_MLI, 'MR_MLI':MR_MLI, 'MISI_MLI':MISI_MLI, 'MV_MLI':MV_MLI, 'MS_PKJ':MS_PKJ, 'MR_PKJ':MR_PKJ, 'MISI_PKJ':MISI_PKJ, 'MV_PKJ':MV_PKJ}\n",
    "    out_dir = './'\n",
    "    for name, mon in monitors.iteritems():\n",
    "        cPickle.dump(mon, open(out_dir+'%s.pkl'%name,'w'))\n",
    "        \n",
    "    # save connections for reproducibility\n",
    "    syn_dir = './'\n",
    "    save_synapses(S_MLI_PKJ, 'S_MLI_PKJ', syn_dir)\n",
    "    save_synapses(S_MLI_MLI, 'S_MLI_MLI', syn_dir)\n",
    "    save_synapses(S_PKJ_MLI, 'S_PKJ_MLI', syn_dir)"
   ]
  },
  {
   "cell_type": "markdown",
   "metadata": {},
   "source": [
    "<h2>Figure Plots<h2>"
   ]
  },
  {
   "cell_type": "code",
   "execution_count": 10,
   "metadata": {
    "collapsed": false
   },
   "outputs": [],
   "source": [
    "from os import *\n",
    "chdir('/Users/maximebeau/Desktop/Science/4_Stage_UCL_WIBR_HAUSSER/My_project/figures/3_personal_noPKJ')"
   ]
  },
  {
   "cell_type": "code",
   "execution_count": 11,
   "metadata": {
    "collapsed": false
   },
   "outputs": [],
   "source": [
    "load_monitors = False\n",
    "if load_monitors:\n",
    "    in_dir = './'\n",
    "    MS_MLI = cPickle.load(open(in_dir+'MS_MLI.pkl'))\n",
    "    MV_MLI = cPickle.load(open(in_dir+'MV_MLI.pkl'))\n",
    "    MS_PKJ = cPickle.load(open(in_dir+'MS_PKJ.pkl'))\n",
    "    MV_PKJ = cPickle.load(open(in_dir+'MV_PKJ.pkl'))"
   ]
  },
  {
   "cell_type": "code",
   "execution_count": 12,
   "metadata": {
    "collapsed": false,
    "scrolled": true
   },
   "outputs": [
    {
     "name": "stderr",
     "output_type": "stream",
     "text": [
      "/Users/maximebeau/anaconda2/lib/python2.7/site-packages/matplotlib/tight_layout.py:222: UserWarning: tight_layout : falling back to Agg renderer\n",
      "  warnings.warn(\"tight_layout : falling back to Agg renderer\")\n"
     ]
    }
   ],
   "source": [
    "ind, mean_fr, isi_cv, err = find_closest_match_neuron(MS_MLI, 15., .40)\n",
    "\n",
    "# Plot ISI\n",
    "fig = figure(figsize=(25,5))\n",
    "ax = fig.add_subplot(131)\n",
    "MV_MLI.insert_spikes(MS_MLI)\n",
    "ax.plot(MV_MLI.times[:6000],(MV_MLI.values[ind,:6000]), color='#8C2318')\n",
    "xlim([-.1,1.5])\n",
    "add_scalebar(ax)\n",
    "ax.spines['top'].set_visible(False)\n",
    "ax.spines['right'].set_visible(False)\n",
    "ax.spines['left'].set_visible(False)\n",
    "ax.spines['bottom'].set_visible(False)\n",
    "\n",
    "ax = fig.add_subplot(132)\n",
    "plot_neuron_ISI_histogram(MS_MLI, ind, ax, xytext=(100,400),nbins=80, color='#8C2318', edgecolor='w') \n",
    "xlim([0,200])\n",
    "simpleaxis(ax)\n",
    "tick_params(labelsize=18)\n",
    "xlabel('ISI (ms)', fontsize=20)\n",
    "ylabel('Count', fontsize=20)\n",
    "\n",
    "# Plot spike autocorrelation\n",
    "ax = fig.add_subplot(133)\n",
    "plot_spike_correlogram(MS_MLI.spiketimes[ind],MS_MLI.spiketimes[ind], bin=1*ms, width=200*ms,ax=ax, color='#8C2318')\n",
    "simpleaxis(ax)\n",
    "tick_params(labelsize=18)\n",
    "\n",
    "tight_layout()\n",
    "fig.subplots_adjust(wspace=.3)\n",
    "fig.savefig('MLI_net_color.tiff',dpi=600*6.93/25)\n",
    "fig.savefig('MLI_net_color.png',dpi=600*6.93/25)"
   ]
  },
  {
   "cell_type": "code",
   "execution_count": 13,
   "metadata": {
    "collapsed": false
   },
   "outputs": [
    {
     "name": "stdout",
     "output_type": "stream",
     "text": [
      "Mean MLI FR: 13.6790329665, Std: 7.86909226655, Max: 28.745489245, Min: 0.279705013542\n",
      "Mean MLI CV: 0.589945470692, Std: 0.235645189461, Max: 1.09999248621, Min: 0.163786785853\n",
      "MLI FR-CV correlation.  Spearman's R: -0.993700925817, p = 4.17480394102e-152\n",
      "Mean PKJ FR: 25.2209604681, Std: 2.94689650284, Max: 28.4038304004, Min: 19.4282533074\n",
      "Mean PKJ CV: 0.291151170022, Std: 0.0429918275842, Max: 0.382940137696, Min: 0.242729980459\n",
      "PKJ FR-CV correlation.  Spearman's R: -0.958823529412, p = 4.82554077138e-09\n"
     ]
    }
   ],
   "source": [
    "from scipy.stats import spearmanr\n",
    "\n",
    "def population_fr_stats(spike_monitor):\n",
    "    mean_frs = []\n",
    "    for ind in range(len(spike_monitor.spiketimes)):\n",
    "        mean_frs.append(mean(diff(spike_monitor.spiketimes[ind]))**-1)\n",
    "    return mean(mean_frs), std(mean_frs), max(mean_frs), min(mean_frs), mean_frs\n",
    "\n",
    "def population_isi_cv_stats(spike_monitor):\n",
    "    cvs = []\n",
    "    for ind in range(len(spike_monitor.spiketimes)):\n",
    "        isi_mean, isi_std = isi_mean_and_std(spike_monitor, ind)\n",
    "        cvs.append(isi_std/isi_mean)\n",
    "    return mean(cvs), std(cvs), max(cvs), min(cvs), cvs\n",
    "\n",
    "m,s,ma,mi,frs = population_fr_stats(MS_MLI)\n",
    "print 'Mean MLI FR: %s, Std: %s, Max: %s, Min: %s'%(m,s,ma,mi)\n",
    "m,s,ma,mi,cvs = population_isi_cv_stats(MS_MLI)        \n",
    "print 'Mean MLI CV: %s, Std: %s, Max: %s, Min: %s'%(m,s,ma,mi)\n",
    "print \"MLI FR-CV correlation.  Spearman's R: %s, p = %s\" % spearmanr(frs,cvs)\n",
    "m,s,ma,mi,frs = population_fr_stats(MS_PKJ)\n",
    "print 'Mean PKJ FR: %s, Std: %s, Max: %s, Min: %s'%(m,s,ma,mi)\n",
    "m,s,ma,mi,cvs = population_isi_cv_stats(MS_PKJ)        \n",
    "print 'Mean PKJ CV: %s, Std: %s, Max: %s, Min: %s'%(m,s,ma,mi)\n",
    "print \"PKJ FR-CV correlation.  Spearman's R: %s, p = %s\" % spearmanr(frs,cvs)"
   ]
  },
  {
   "cell_type": "code",
   "execution_count": 14,
   "metadata": {
    "collapsed": false
   },
   "outputs": [],
   "source": [
    "ind, mean_fr, isi_cv, err = find_closest_match_neuron(MS_PKJ, 35., .49)\n",
    "ind = 1\n",
    "\n",
    "# Plot ISI\n",
    "fig = figure(figsize=(25,5))\n",
    "ax = fig.add_subplot(131)\n",
    "MV_PKJ.insert_spikes(MS_PKJ)\n",
    "ax.plot(MV_PKJ.times[:4000],(MV_PKJ.values[ind,:4000]),color='#0B486B')\n",
    "xlim([-.1,1.])\n",
    "#axis('off')\n",
    "add_scalebar(ax)\n",
    "ax.spines['top'].set_visible(False)\n",
    "ax.spines['right'].set_visible(False)\n",
    "ax.spines['left'].set_visible(False)\n",
    "ax.spines['bottom'].set_visible(False)\n",
    "\n",
    "ax = fig.add_subplot(132)\n",
    "plot_neuron_ISI_histogram(MS_PKJ, ind, ax, xytext=(80,400),nbins=80,color='#0B486B',edgecolor='w') \n",
    "xlim([0,150])\n",
    "simpleaxis(ax)\n",
    "tick_params(labelsize=18)\n",
    "xlabel('ISI (ms)', fontsize=20)\n",
    "ylabel('Count', fontsize=20)\n",
    "\n",
    "# Plot spike autocorrelation\n",
    "ax = fig.add_subplot(133)\n",
    "plot_spike_correlogram(MS_PKJ.spiketimes[ind],MS_PKJ.spiketimes[ind], bin=1*ms, width=200*ms,ax=ax,color='#0B486B')\n",
    "simpleaxis(ax)\n",
    "tick_params(labelsize=18)\n",
    "\n",
    "tight_layout()\n",
    "fig.subplots_adjust(wspace=.3)\n",
    "fig.savefig('PKJ_net_color.tiff',dpi=600*6.93/25)\n",
    "fig.savefig('PKJ_net_color.png',dpi=600*6.93/25)"
   ]
  },
  {
   "cell_type": "code",
   "execution_count": 22,
   "metadata": {
    "collapsed": false
   },
   "outputs": [
    {
     "ename": "ValueError",
     "evalue": "max must be larger than min in range parameter.",
     "output_type": "error",
     "traceback": [
      "\u001b[0;31m---------------------------------------------------------------------------\u001b[0m",
      "\u001b[0;31mValueError\u001b[0m                                Traceback (most recent call last)",
      "\u001b[0;32m<ipython-input-22-8661b82f921a>\u001b[0m in \u001b[0;36m<module>\u001b[0;34m()\u001b[0m\n\u001b[1;32m      2\u001b[0m \u001b[0mfig\u001b[0m \u001b[0;34m=\u001b[0m \u001b[0mfigure\u001b[0m\u001b[0;34m(\u001b[0m\u001b[0mfigsize\u001b[0m\u001b[0;34m=\u001b[0m\u001b[0;34m(\u001b[0m\u001b[0;36m6\u001b[0m\u001b[0;34m,\u001b[0m\u001b[0;36m7\u001b[0m\u001b[0;34m)\u001b[0m\u001b[0;34m)\u001b[0m\u001b[0;34m\u001b[0m\u001b[0m\n\u001b[1;32m      3\u001b[0m \u001b[0max\u001b[0m \u001b[0;34m=\u001b[0m \u001b[0mfig\u001b[0m\u001b[0;34m.\u001b[0m\u001b[0madd_subplot\u001b[0m\u001b[0;34m(\u001b[0m\u001b[0;36m211\u001b[0m\u001b[0;34m)\u001b[0m\u001b[0;34m\u001b[0m\u001b[0m\n\u001b[0;32m----> 4\u001b[0;31m \u001b[0max\u001b[0m\u001b[0;34m.\u001b[0m\u001b[0mhist\u001b[0m\u001b[0;34m(\u001b[0m\u001b[0;34m[\u001b[0m\u001b[0mmean\u001b[0m\u001b[0;34m(\u001b[0m\u001b[0mdiff\u001b[0m\u001b[0;34m(\u001b[0m\u001b[0mMS_MLI\u001b[0m\u001b[0;34m.\u001b[0m\u001b[0mspiketimes\u001b[0m\u001b[0;34m[\u001b[0m\u001b[0mi\u001b[0m\u001b[0;34m]\u001b[0m\u001b[0;34m)\u001b[0m\u001b[0;34m)\u001b[0m\u001b[0;34m**\u001b[0m\u001b[0;34m-\u001b[0m\u001b[0;36m1\u001b[0m \u001b[0;32mfor\u001b[0m \u001b[0mi\u001b[0m \u001b[0;32min\u001b[0m \u001b[0mrange\u001b[0m\u001b[0;34m(\u001b[0m\u001b[0mN_MLI\u001b[0m\u001b[0;34m)\u001b[0m\u001b[0;34m]\u001b[0m\u001b[0;34m,\u001b[0m\u001b[0;36m15\u001b[0m\u001b[0;34m,\u001b[0m\u001b[0mcolor\u001b[0m\u001b[0;34m=\u001b[0m\u001b[0;34m'#8C2318'\u001b[0m\u001b[0;34m,\u001b[0m \u001b[0medgecolor\u001b[0m\u001b[0;34m=\u001b[0m\u001b[0;34m'w'\u001b[0m\u001b[0;34m)\u001b[0m\u001b[0;34m\u001b[0m\u001b[0m\n\u001b[0m\u001b[1;32m      5\u001b[0m \u001b[0msimpleaxis\u001b[0m\u001b[0;34m(\u001b[0m\u001b[0max\u001b[0m\u001b[0;34m)\u001b[0m\u001b[0;34m\u001b[0m\u001b[0m\n\u001b[1;32m      6\u001b[0m \u001b[0mtick_params\u001b[0m\u001b[0;34m(\u001b[0m\u001b[0mlabelsize\u001b[0m\u001b[0;34m=\u001b[0m\u001b[0;36m20\u001b[0m\u001b[0;34m)\u001b[0m\u001b[0;34m\u001b[0m\u001b[0m\n",
      "\u001b[0;32m/Users/maximebeau/anaconda2/lib/python2.7/site-packages/matplotlib/__init__.pyc\u001b[0m in \u001b[0;36minner\u001b[0;34m(ax, *args, **kwargs)\u001b[0m\n\u001b[1;32m   1810\u001b[0m                     warnings.warn(msg % (label_namer, func.__name__),\n\u001b[1;32m   1811\u001b[0m                                   RuntimeWarning, stacklevel=2)\n\u001b[0;32m-> 1812\u001b[0;31m             \u001b[0;32mreturn\u001b[0m \u001b[0mfunc\u001b[0m\u001b[0;34m(\u001b[0m\u001b[0max\u001b[0m\u001b[0;34m,\u001b[0m \u001b[0;34m*\u001b[0m\u001b[0margs\u001b[0m\u001b[0;34m,\u001b[0m \u001b[0;34m**\u001b[0m\u001b[0mkwargs\u001b[0m\u001b[0;34m)\u001b[0m\u001b[0;34m\u001b[0m\u001b[0m\n\u001b[0m\u001b[1;32m   1813\u001b[0m         \u001b[0mpre_doc\u001b[0m \u001b[0;34m=\u001b[0m \u001b[0minner\u001b[0m\u001b[0;34m.\u001b[0m\u001b[0m__doc__\u001b[0m\u001b[0;34m\u001b[0m\u001b[0m\n\u001b[1;32m   1814\u001b[0m         \u001b[0;32mif\u001b[0m \u001b[0mpre_doc\u001b[0m \u001b[0;32mis\u001b[0m \u001b[0mNone\u001b[0m\u001b[0;34m:\u001b[0m\u001b[0;34m\u001b[0m\u001b[0m\n",
      "\u001b[0;32m/Users/maximebeau/anaconda2/lib/python2.7/site-packages/matplotlib/axes/_axes.pyc\u001b[0m in \u001b[0;36mhist\u001b[0;34m(self, x, bins, range, normed, weights, cumulative, bottom, histtype, align, orientation, rwidth, log, color, label, stacked, **kwargs)\u001b[0m\n\u001b[1;32m   6008\u001b[0m             \u001b[0;31m# this will automatically overwrite bins,\u001b[0m\u001b[0;34m\u001b[0m\u001b[0;34m\u001b[0m\u001b[0m\n\u001b[1;32m   6009\u001b[0m             \u001b[0;31m# so that each histogram uses the same bins\u001b[0m\u001b[0;34m\u001b[0m\u001b[0;34m\u001b[0m\u001b[0m\n\u001b[0;32m-> 6010\u001b[0;31m             \u001b[0mm\u001b[0m\u001b[0;34m,\u001b[0m \u001b[0mbins\u001b[0m \u001b[0;34m=\u001b[0m \u001b[0mnp\u001b[0m\u001b[0;34m.\u001b[0m\u001b[0mhistogram\u001b[0m\u001b[0;34m(\u001b[0m\u001b[0mx\u001b[0m\u001b[0;34m[\u001b[0m\u001b[0mi\u001b[0m\u001b[0;34m]\u001b[0m\u001b[0;34m,\u001b[0m \u001b[0mbins\u001b[0m\u001b[0;34m,\u001b[0m \u001b[0mweights\u001b[0m\u001b[0;34m=\u001b[0m\u001b[0mw\u001b[0m\u001b[0;34m[\u001b[0m\u001b[0mi\u001b[0m\u001b[0;34m]\u001b[0m\u001b[0;34m,\u001b[0m \u001b[0;34m**\u001b[0m\u001b[0mhist_kwargs\u001b[0m\u001b[0;34m)\u001b[0m\u001b[0;34m\u001b[0m\u001b[0m\n\u001b[0m\u001b[1;32m   6011\u001b[0m             \u001b[0mm\u001b[0m \u001b[0;34m=\u001b[0m \u001b[0mm\u001b[0m\u001b[0;34m.\u001b[0m\u001b[0mastype\u001b[0m\u001b[0;34m(\u001b[0m\u001b[0mfloat\u001b[0m\u001b[0;34m)\u001b[0m  \u001b[0;31m# causes problems later if it's an int\u001b[0m\u001b[0;34m\u001b[0m\u001b[0m\n\u001b[1;32m   6012\u001b[0m             \u001b[0;32mif\u001b[0m \u001b[0mmlast\u001b[0m \u001b[0;32mis\u001b[0m \u001b[0mNone\u001b[0m\u001b[0;34m:\u001b[0m\u001b[0;34m\u001b[0m\u001b[0m\n",
      "\u001b[0;32m/Users/maximebeau/anaconda2/lib/python2.7/site-packages/numpy/lib/function_base.pyc\u001b[0m in \u001b[0;36mhistogram\u001b[0;34m(a, bins, range, normed, weights, density)\u001b[0m\n\u001b[1;32m    500\u001b[0m     \u001b[0;32mif\u001b[0m \u001b[0mmn\u001b[0m \u001b[0;34m>\u001b[0m \u001b[0mmx\u001b[0m\u001b[0;34m:\u001b[0m\u001b[0;34m\u001b[0m\u001b[0m\n\u001b[1;32m    501\u001b[0m         raise ValueError(\n\u001b[0;32m--> 502\u001b[0;31m             'max must be larger than min in range parameter.')\n\u001b[0m\u001b[1;32m    503\u001b[0m     \u001b[0;32mif\u001b[0m \u001b[0;32mnot\u001b[0m \u001b[0mnp\u001b[0m\u001b[0;34m.\u001b[0m\u001b[0mall\u001b[0m\u001b[0;34m(\u001b[0m\u001b[0mnp\u001b[0m\u001b[0;34m.\u001b[0m\u001b[0misfinite\u001b[0m\u001b[0;34m(\u001b[0m\u001b[0;34m[\u001b[0m\u001b[0mmn\u001b[0m\u001b[0;34m,\u001b[0m \u001b[0mmx\u001b[0m\u001b[0;34m]\u001b[0m\u001b[0;34m)\u001b[0m\u001b[0;34m)\u001b[0m\u001b[0;34m:\u001b[0m\u001b[0;34m\u001b[0m\u001b[0m\n\u001b[1;32m    504\u001b[0m         raise ValueError(\n",
      "\u001b[0;31mValueError\u001b[0m: max must be larger than min in range parameter."
     ]
    }
   ],
   "source": [
    "# plot histogram\n",
    "fig = figure(figsize=(6,7))\n",
    "\n",
    "ax = fig.add_subplot(211)\n",
    "ax.hist([mean(diff(MS_MLI.spiketimes[i]))**-1 for i in range(N_MLI)],15,color='#8C2318', edgecolor='w')\n",
    "simpleaxis(ax)\n",
    "tick_params(labelsize=20)\n",
    "#xlabel('Mean firing rate (Hz)', fontsize=20)\n",
    "ylabel('Number of cells', fontsize=20, labelpad=10)\n",
    "#title('MLI mean firing rates', fontsize=20)\n",
    "yticks(arange(0,19,3))\n",
    "\n",
    "ax = fig.add_subplot(212)\n",
    "counts, bins, _ = ax.hist([mean(diff(MS_PKJ.spiketimes[i]))**-1 for i in range(N_PKJ)],9,color='#0B486B',edgecolor='w')\n",
    "simpleaxis(ax)\n",
    "tick_params(labelsize=20)\n",
    "xlabel('Mean firing rate (Hz)', fontsize=20)\n",
    "ylabel('Number of cells', fontsize=20, labelpad=10)\n",
    "#title('PKJ mean firing rates', fontsize=20)\n",
    "yticks(range(int(counts.max()+1)))\n",
    "\n",
    "tight_layout()\n",
    "fig.subplots_adjust(hspace=.3)\n",
    "fig.savefig('population_rate_histograms_color.tiff',dpi=600*3.35/6)\n",
    "fig.savefig('population_rate_histograms_color.png',dpi=600*3.35/6)"
   ]
  }
 ],
 "metadata": {
  "anaconda-cloud": {},
  "kernelspec": {
   "display_name": "Python [Root]",
   "language": "python",
   "name": "Python [Root]"
  },
  "language_info": {
   "codemirror_mode": {
    "name": "ipython",
    "version": 2
   },
   "file_extension": ".py",
   "mimetype": "text/x-python",
   "name": "python",
   "nbconvert_exporter": "python",
   "pygments_lexer": "ipython2",
   "version": "2.7.12"
  }
 },
 "nbformat": 4,
 "nbformat_minor": 0
}
