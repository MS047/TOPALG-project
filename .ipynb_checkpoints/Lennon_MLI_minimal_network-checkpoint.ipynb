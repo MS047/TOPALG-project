{
 "cells": [
  {
   "cell_type": "code",
   "execution_count": 1,
   "metadata": {
    "collapsed": false
   },
   "outputs": [
    {
     "name": "stderr",
     "output_type": "stream",
     "text": [
      "/Users/maximebeau/anaconda2/lib/python2.7/site-packages/matplotlib/font_manager.py:273: UserWarning: Matplotlib is building the font cache using fc-list. This may take a moment.\n",
      "  warnings.warn('Matplotlib is building the font cache using fc-list. This may take a moment.')\n"
     ]
    }
   ],
   "source": [
    "%load_ext autoreload\n",
    "%autoreload 2\n",
    "import datetime\n",
    "import os\n",
    "from brian import *\n",
    "import sys\n",
    "sys.path.append('/Users/maximebeau/Desktop/Science/4_Stage_UCL_WIBR_HAUSSER/My_project/model_PKJ_MLI - Lennon et al., computneur2014')\n",
    "from MLI_PKJ_net import *\n",
    "import cPickle\n",
    "import time\n",
    "set_global_preferences(useweave=True, usenewpropagate=True, usecodegen=True, usecodegenweave=True)\n",
    "defaultclock.dt = .25*ms\n",
    "from statsmodels.tsa.stattools import acf\n",
    "from pandas import *"
   ]
  },
  {
   "cell_type": "code",
   "execution_count": 2,
   "metadata": {
    "collapsed": false
   },
   "outputs": [
    {
     "name": "stderr",
     "output_type": "stream",
     "text": [
      "brian.stateupdater: WARNING  Using codegen CStateUpdater\n"
     ]
    },
    {
     "name": "stdout",
     "output_type": "stream",
     "text": [
      "MLI->MLI convergence:  4.0125\n",
      "MLI->MLI divergence:  4.0125\n",
      "66.4431819916\n"
     ]
    }
   ],
   "source": [
    "T = 300*second\n",
    "N_MLI = 160\n",
    "MLI = MLIGroup(N_MLI)\n",
    "\n",
    "w_mli_mli = 1.\n",
    "S_MLI_MLI = Synapses(MLI,MLI,model='w:1',pre='g_inh+=MLI.g_inh_*w')\n",
    "connect_mli_mli(S_MLI_MLI,dist=80,syn_prob=.05)\n",
    "S_MLI_MLI.w[:,:] = 'rand()*w_mli_mli'\n",
    "print 'MLI->MLI convergence: ', len(S_MLI_MLI)/float(N_MLI)\n",
    "print 'MLI->MLI divergence: ', len(S_MLI_MLI)/float(N_MLI)\n",
    "\n",
    "MS_MLI = SpikeMonitor(MLI)\n",
    "MV_MLI = StateMonitor(MLI, 'V', record=range(N_MLI))\n",
    "\n",
    "start = time.time()\n",
    "run(T)\n",
    "print time.time() - start"
   ]
  },
  {
   "cell_type": "markdown",
   "metadata": {},
   "source": [
    "# Let's try to find a readout for these MLI connectivity !"
   ]
  },
  {
   "cell_type": "markdown",
   "metadata": {},
   "source": [
    "readout as a table"
   ]
  },
  {
   "cell_type": "code",
   "execution_count": 19,
   "metadata": {
    "collapsed": false
   },
   "outputs": [],
   "source": [
    "from os import chdir\n",
    "chdir('/Users/maximebeau/Desktop/Science/4_Stage_UCL_WIBR_HAUSSER/My_project/MLI_connectivity_readout')\n",
    "\n",
    "from MLI_connectivity_TableReadout import *\n",
    "\n",
    "write_synapses_table(S_MLI_MLI, 'MLI_table.txt') # write the table neuron x is connected to ...\n",
    "\n",
    "tableTest(S_MLI_MLI) # test that synapses between >80 index units away pairs of neurons exist, like in the table \n",
    "\n",
    "translateTheMLItable('MLI_table.txt', 'MLI_table_english.txt') # translate it from raw numbers to english for fun\n"
   ]
  },
  {
   "cell_type": "code",
   "execution_count": 11,
   "metadata": {
    "collapsed": false,
    "scrolled": false
   },
   "outputs": [
    {
     "name": "stdout",
     "output_type": "stream",
     "text": [
      "[0.8770771013992132]\n",
      "[0.17052280447770085]\n",
      "two 110 index units away neurons synapse detected\n"
     ]
    }
   ],
   "source": [
    "from MLI_connectivity_TableReadout import *\n",
    "tableTest(S_MLI_MLI)"
   ]
  },
  {
   "cell_type": "code",
   "execution_count": null,
   "metadata": {
    "collapsed": true
   },
   "outputs": [],
   "source": []
  },
  {
   "cell_type": "code",
   "execution_count": null,
   "metadata": {
    "collapsed": true
   },
   "outputs": [],
   "source": []
  },
  {
   "cell_type": "code",
   "execution_count": null,
   "metadata": {
    "collapsed": true
   },
   "outputs": [],
   "source": []
  },
  {
   "cell_type": "markdown",
   "metadata": {},
   "source": [
    "readout as a plot"
   ]
  },
  {
   "cell_type": "code",
   "execution_count": null,
   "metadata": {
    "collapsed": true
   },
   "outputs": [],
   "source": [
    "def visualise_connectivity(S):\n",
    "    Ns = len(S.source)\n",
    "    Nt = len(S.target)\n",
    "    figure(figsize=(10, 4))\n",
    "    subplot(121)\n",
    "    plot(zeros(Ns), arange(Ns), 'ok', ms=10)\n",
    "    plot(ones(Nt), arange(Nt), 'ok', ms=10)\n",
    "    for i, j in zip(S.i, S.j):\n",
    "        plot([0, 1], [i, j], '-k')\n",
    "    xticks([0, 1], ['Source', 'Target'])\n",
    "    ylabel('Neuron index')\n",
    "    xlim(-0.1, 1.1)\n",
    "    ylim(-1, max(Ns, Nt))\n",
    "    subplot(122)\n",
    "    plot(S.i, S.j, 'ok')\n",
    "    xlim(-1, Ns)\n",
    "    ylim(-1, Nt)\n",
    "    xlabel('Source neuron index')\n",
    "    ylabel('Target neuron index')\n",
    "    \n",
    "visualise_connectivity(S)"
   ]
  },
  {
   "cell_type": "markdown",
   "metadata": {},
   "source": [
    "# Now we want to modify the connectivity between Lennon MLIs"
   ]
  },
  {
   "cell_type": "markdown",
   "metadata": {},
   "source": [
    "We can easily do it by using : S_MLI_MLI[i,j]=True to create a synapse beween the i neuron of the source and the j neuron of the target !"
   ]
  },
  {
   "cell_type": "code",
   "execution_count": null,
   "metadata": {
    "collapsed": true
   },
   "outputs": [],
   "source": []
  }
 ],
 "metadata": {
  "anaconda-cloud": {},
  "kernelspec": {
   "display_name": "Python [Root]",
   "language": "python",
   "name": "Python [Root]"
  },
  "language_info": {
   "codemirror_mode": {
    "name": "ipython",
    "version": 2
   },
   "file_extension": ".py",
   "mimetype": "text/x-python",
   "name": "python",
   "nbconvert_exporter": "python",
   "pygments_lexer": "ipython2",
   "version": "2.7.12"
  }
 },
 "nbformat": 4,
 "nbformat_minor": 0
}
