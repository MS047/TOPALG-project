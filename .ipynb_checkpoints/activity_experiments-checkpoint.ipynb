{
 "cells": [
  {
   "cell_type": "code",
   "execution_count": 1,
   "metadata": {
    "collapsed": false
   },
   "outputs": [
    {
     "name": "stderr",
     "output_type": "stream",
     "text": [
      "/Users/maximebeau/anaconda2/lib/python2.7/site-packages/matplotlib/font_manager.py:273: UserWarning: Matplotlib is building the font cache using fc-list. This may take a moment.\n",
      "  warnings.warn('Matplotlib is building the font cache using fc-list. This may take a moment.')\n"
     ]
    }
   ],
   "source": [
    "import datetime\n",
    "import os\n",
    "from os import *\n",
    "\n",
    "import sys\n",
    "sys.path.append('/Users/maximebeau/Desktop/Science/4_Stage_UCL_WIBR_HAUSSER/My_project/model_PKJ_MLI - Lennon et al., computneur2014')\n",
    "from MLI_PKJ_net import *\n",
    "sys.path.append('/Users/maximebeau/Desktop/Science/4_Stage_UCL_WIBR_HAUSSER/My_project')\n",
    "from MLI_net_personal import *\n",
    "sys.path.append('/Users/maximebeau/Desktop/Science/4_Stage_UCL_WIBR_HAUSSER/My_project/MLI_net_personal')\n",
    "from molecular_layer_geometric import *\n",
    "\n",
    "from brian import *\n",
    "import cPickle\n",
    "import time\n",
    "set_global_preferences(useweave=True, usenewpropagate=True, usecodegen=True, usecodegenweave=True)\n",
    "defaultclock.dt = .25*ms\n",
    "from statsmodels.tsa.stattools import acf\n",
    "from pandas import *"
   ]
  },
  {
   "cell_type": "code",
   "execution_count": 2,
   "metadata": {
    "collapsed": false
   },
   "outputs": [
    {
     "data": {
      "text/plain": [
       "'/Users/maximebeau/Desktop/Science/4_Stage_UCL_WIBR_HAUSSER/My_project'"
      ]
     },
     "execution_count": 2,
     "metadata": {},
     "output_type": "execute_result"
    }
   ],
   "source": [
    "getcwd()"
   ]
  },
  {
   "cell_type": "markdown",
   "metadata": {},
   "source": [
    "# 1) MLI activity with Lennon connectivity, no PKJ"
   ]
  },
  {
   "cell_type": "markdown",
   "metadata": {},
   "source": [
    "Create the MLI network"
   ]
  },
  {
   "cell_type": "code",
   "execution_count": 3,
   "metadata": {
    "collapsed": false
   },
   "outputs": [
    {
     "name": "stderr",
     "output_type": "stream",
     "text": [
      "brian.stateupdater: WARNING  Using codegen CStateUpdater\n"
     ]
    },
    {
     "name": "stdout",
     "output_type": "stream",
     "text": [
      "MLI->MLI convergence:  4.09375\n",
      "MLI->MLI divergence:  4.09375\n"
     ]
    }
   ],
   "source": [
    "N_MLI = 160\n",
    "MLI = MLIGroup(N_MLI)\n",
    "\n",
    "w_mli_mli = 1.\n",
    "S_MLI_MLI = Synapses(MLI,MLI,model='w:1',pre='g_inh+=MLI.g_inh_*w')\n",
    "connect_mli_mli(S_MLI_MLI,dist=80,syn_prob=.05)\n",
    "S_MLI_MLI.w[:,:] = 'rand()*w_mli_mli'\n",
    "print 'MLI->MLI convergence: ', len(S_MLI_MLI)/float(N_MLI)\n",
    "print 'MLI->MLI divergence: ', len(S_MLI_MLI)/float(N_MLI)"
   ]
  },
  {
   "cell_type": "markdown",
   "metadata": {},
   "source": [
    "Connectivity readout"
   ]
  },
  {
   "cell_type": "code",
   "execution_count": 4,
   "metadata": {
    "collapsed": false
   },
   "outputs": [],
   "source": [
    "from os import chdir\n",
    "chdir('/Users/maximebeau/Desktop/Science/4_Stage_UCL_WIBR_HAUSSER/My_project/MLI_connectivity_readout')\n",
    "\n",
    "from MLI_connectivity_TableReadout import *\n",
    "\n",
    "write_synapses_table(S_MLI_MLI, 'MLI_table_Lennon.txt') # write the table neuron x is connected to ...\n",
    "\n",
    "# tableTest(S_MLI_MLI) # test that synapses between >80 index units away pairs of neurons exist, like in the table \n",
    "\n",
    "# translateTheMLItable('MLI_table.txt', 'MLI_table_english.txt') # translate it from raw numbers to english for fun\n"
   ]
  },
  {
   "cell_type": "markdown",
   "metadata": {},
   "source": [
    "run the simulation"
   ]
  },
  {
   "cell_type": "code",
   "execution_count": 5,
   "metadata": {
    "collapsed": false
   },
   "outputs": [
    {
     "name": "stdout",
     "output_type": "stream",
     "text": [
      "3.78409814835\n"
     ]
    }
   ],
   "source": [
    "T = 300*second\n",
    "\n",
    "@network_operation(Clock(dt=defaultclock.dt))\n",
    "def random_current():\n",
    "    MLI.I = gamma(3.966333,0.006653,size=len(MLI)) * nA\n",
    "\n",
    "MS_MLI = SpikeMonitor(MLI)\n",
    "MR_MLI = PopulationRateMonitor(MLI,bin=1*ms)\n",
    "MISI_MLI = ISIHistogramMonitor(MLI,bins=arange(0,162,2)*ms)\n",
    "MV_MLI = StateMonitor(MLI, 'V', record=range(N_MLI))\n",
    "\n",
    "start = time.time()\n",
    "run(T)\n",
    "print time.time() - start"
   ]
  },
  {
   "cell_type": "markdown",
   "metadata": {},
   "source": [
    "plot the figures to readout the connectivity"
   ]
  },
  {
   "cell_type": "code",
   "execution_count": 6,
   "metadata": {
    "collapsed": true
   },
   "outputs": [],
   "source": [
    "chdir('/Users/maximebeau/Desktop/Science/4_Stage_UCL_WIBR_HAUSSER/My_project/figures/1_Lennon_noPKJ')"
   ]
  },
  {
   "cell_type": "code",
   "execution_count": 7,
   "metadata": {
    "collapsed": false
   },
   "outputs": [
    {
     "name": "stderr",
     "output_type": "stream",
     "text": [
      "/Users/maximebeau/anaconda2/lib/python2.7/site-packages/numpy/core/_methods.py:59: RuntimeWarning: Mean of empty slice.\n",
      "  warnings.warn(\"Mean of empty slice.\", RuntimeWarning)\n",
      "/Users/maximebeau/anaconda2/lib/python2.7/site-packages/numpy/core/_methods.py:82: RuntimeWarning: Degrees of freedom <= 0 for slice\n",
      "  warnings.warn(\"Degrees of freedom <= 0 for slice\", RuntimeWarning)\n",
      "/Users/maximebeau/anaconda2/lib/python2.7/site-packages/matplotlib/axes/_base.py:3045: UserWarning: Attempting to set identical bottom==top results\n",
      "in singular transformations; automatically expanding.\n",
      "bottom=0, top=0.0\n",
      "  'bottom=%s, top=%s') % (bottom, top))\n",
      "/Users/maximebeau/anaconda2/lib/python2.7/site-packages/matplotlib/tight_layout.py:222: UserWarning: tight_layout : falling back to Agg renderer\n",
      "  warnings.warn(\"tight_layout : falling back to Agg renderer\")\n"
     ]
    }
   ],
   "source": [
    "ind, mean_fr, isi_cv, err = find_closest_match_neuron(MS_MLI, 15., .40)\n",
    "\n",
    "# Plot ISI\n",
    "fig = figure(figsize=(25,5))\n",
    "ax = fig.add_subplot(131)\n",
    "MV_MLI.insert_spikes(MS_MLI)\n",
    "ax.plot(MV_MLI.times[:6000],(MV_MLI.values[ind,:6000]), color='#8C2318')\n",
    "xlim([-.1,1.5])\n",
    "add_scalebar(ax)\n",
    "ax.spines['top'].set_visible(False)\n",
    "ax.spines['right'].set_visible(False)\n",
    "ax.spines['left'].set_visible(False)\n",
    "ax.spines['bottom'].set_visible(False)\n",
    "\n",
    "ax = fig.add_subplot(132)\n",
    "plot_neuron_ISI_histogram(MS_MLI, ind, ax, xytext=(100,400),nbins=80, color='#8C2318', edgecolor='w') \n",
    "xlim([0,200])\n",
    "simpleaxis(ax)\n",
    "tick_params(labelsize=18)\n",
    "xlabel('ISI (ms)', fontsize=20)\n",
    "ylabel('Count', fontsize=20)\n",
    "\n",
    "# Plot spike autocorrelation\n",
    "ax = fig.add_subplot(133)\n",
    "plot_spike_correlogram(MS_MLI.spiketimes[ind],MS_MLI.spiketimes[ind], bin=1*ms, width=200*ms,ax=ax, color='#8C2318')\n",
    "simpleaxis(ax)\n",
    "tick_params(labelsize=18)\n",
    "\n",
    "tight_layout()\n",
    "fig.subplots_adjust(wspace=.3)\n",
    "fig.savefig('MLI_net_color.tiff',dpi=600*6.93/25)\n",
    "fig.savefig('MLI_net_color.png',dpi=600*6.93/25)"
   ]
  },
  {
   "cell_type": "code",
   "execution_count": 8,
   "metadata": {
    "collapsed": false
   },
   "outputs": [
    {
     "name": "stdout",
     "output_type": "stream",
     "text": [
      "Mean MLI FR: nan, Std: nan, Max: nan, Min: nan\n",
      "Mean MLI CV: nan, Std: nan, Max: nan, Min: nan\n",
      "MLI FR-CV correlation.  Spearman's R: 1.0, p = 0.0\n"
     ]
    }
   ],
   "source": [
    "from scipy.stats import spearmanr\n",
    "\n",
    "def population_fr_stats(spike_monitor):\n",
    "    mean_frs = []\n",
    "    for ind in range(len(spike_monitor.spiketimes)):\n",
    "        mean_frs.append(mean(diff(spike_monitor.spiketimes[ind]))**-1)\n",
    "    return mean(mean_frs), std(mean_frs), max(mean_frs), min(mean_frs), mean_frs\n",
    "\n",
    "def population_isi_cv_stats(spike_monitor):\n",
    "    cvs = []\n",
    "    for ind in range(len(spike_monitor.spiketimes)):\n",
    "        isi_mean, isi_std = isi_mean_and_std(spike_monitor, ind)\n",
    "        cvs.append(isi_std/isi_mean)\n",
    "    return mean(cvs), std(cvs), max(cvs), min(cvs), cvs\n",
    "\n",
    "m,s,ma,mi,frs = population_fr_stats(MS_MLI)\n",
    "print 'Mean MLI FR: %s, Std: %s, Max: %s, Min: %s'%(m,s,ma,mi)\n",
    "m,s,ma,mi,cvs = population_isi_cv_stats(MS_MLI)        \n",
    "print 'Mean MLI CV: %s, Std: %s, Max: %s, Min: %s'%(m,s,ma,mi)\n",
    "print \"MLI FR-CV correlation.  Spearman's R: %s, p = %s\" % spearmanr(frs,cvs)"
   ]
  },
  {
   "cell_type": "code",
   "execution_count": 9,
   "metadata": {
    "collapsed": false
   },
   "outputs": [
    {
     "ename": "ValueError",
     "evalue": "max must be larger than min in range parameter.",
     "output_type": "error",
     "traceback": [
      "\u001b[0;31m---------------------------------------------------------------------------\u001b[0m",
      "\u001b[0;31mValueError\u001b[0m                                Traceback (most recent call last)",
      "\u001b[0;32m<ipython-input-9-6940791ea890>\u001b[0m in \u001b[0;36m<module>\u001b[0;34m()\u001b[0m\n\u001b[1;32m      3\u001b[0m \u001b[0;34m\u001b[0m\u001b[0m\n\u001b[1;32m      4\u001b[0m \u001b[0max\u001b[0m \u001b[0;34m=\u001b[0m \u001b[0mfig\u001b[0m\u001b[0;34m.\u001b[0m\u001b[0madd_subplot\u001b[0m\u001b[0;34m(\u001b[0m\u001b[0;36m211\u001b[0m\u001b[0;34m)\u001b[0m\u001b[0;34m\u001b[0m\u001b[0m\n\u001b[0;32m----> 5\u001b[0;31m \u001b[0max\u001b[0m\u001b[0;34m.\u001b[0m\u001b[0mhist\u001b[0m\u001b[0;34m(\u001b[0m\u001b[0;34m[\u001b[0m\u001b[0mmean\u001b[0m\u001b[0;34m(\u001b[0m\u001b[0mdiff\u001b[0m\u001b[0;34m(\u001b[0m\u001b[0mMS_MLI\u001b[0m\u001b[0;34m.\u001b[0m\u001b[0mspiketimes\u001b[0m\u001b[0;34m[\u001b[0m\u001b[0mi\u001b[0m\u001b[0;34m]\u001b[0m\u001b[0;34m)\u001b[0m\u001b[0;34m)\u001b[0m\u001b[0;34m**\u001b[0m\u001b[0;34m-\u001b[0m\u001b[0;36m1\u001b[0m \u001b[0;32mfor\u001b[0m \u001b[0mi\u001b[0m \u001b[0;32min\u001b[0m \u001b[0mrange\u001b[0m\u001b[0;34m(\u001b[0m\u001b[0mN_MLI\u001b[0m\u001b[0;34m)\u001b[0m\u001b[0;34m]\u001b[0m\u001b[0;34m,\u001b[0m\u001b[0;36m15\u001b[0m\u001b[0;34m,\u001b[0m\u001b[0mcolor\u001b[0m\u001b[0;34m=\u001b[0m\u001b[0;34m'#8C2318'\u001b[0m\u001b[0;34m,\u001b[0m \u001b[0medgecolor\u001b[0m\u001b[0;34m=\u001b[0m\u001b[0;34m'w'\u001b[0m\u001b[0;34m)\u001b[0m\u001b[0;34m\u001b[0m\u001b[0m\n\u001b[0m\u001b[1;32m      6\u001b[0m \u001b[0msimpleaxis\u001b[0m\u001b[0;34m(\u001b[0m\u001b[0max\u001b[0m\u001b[0;34m)\u001b[0m\u001b[0;34m\u001b[0m\u001b[0m\n\u001b[1;32m      7\u001b[0m \u001b[0mtick_params\u001b[0m\u001b[0;34m(\u001b[0m\u001b[0mlabelsize\u001b[0m\u001b[0;34m=\u001b[0m\u001b[0;36m20\u001b[0m\u001b[0;34m)\u001b[0m\u001b[0;34m\u001b[0m\u001b[0m\n",
      "\u001b[0;32m/Users/maximebeau/anaconda2/lib/python2.7/site-packages/matplotlib/__init__.pyc\u001b[0m in \u001b[0;36minner\u001b[0;34m(ax, *args, **kwargs)\u001b[0m\n\u001b[1;32m   1810\u001b[0m                     warnings.warn(msg % (label_namer, func.__name__),\n\u001b[1;32m   1811\u001b[0m                                   RuntimeWarning, stacklevel=2)\n\u001b[0;32m-> 1812\u001b[0;31m             \u001b[0;32mreturn\u001b[0m \u001b[0mfunc\u001b[0m\u001b[0;34m(\u001b[0m\u001b[0max\u001b[0m\u001b[0;34m,\u001b[0m \u001b[0;34m*\u001b[0m\u001b[0margs\u001b[0m\u001b[0;34m,\u001b[0m \u001b[0;34m**\u001b[0m\u001b[0mkwargs\u001b[0m\u001b[0;34m)\u001b[0m\u001b[0;34m\u001b[0m\u001b[0m\n\u001b[0m\u001b[1;32m   1813\u001b[0m         \u001b[0mpre_doc\u001b[0m \u001b[0;34m=\u001b[0m \u001b[0minner\u001b[0m\u001b[0;34m.\u001b[0m\u001b[0m__doc__\u001b[0m\u001b[0;34m\u001b[0m\u001b[0m\n\u001b[1;32m   1814\u001b[0m         \u001b[0;32mif\u001b[0m \u001b[0mpre_doc\u001b[0m \u001b[0;32mis\u001b[0m \u001b[0mNone\u001b[0m\u001b[0;34m:\u001b[0m\u001b[0;34m\u001b[0m\u001b[0m\n",
      "\u001b[0;32m/Users/maximebeau/anaconda2/lib/python2.7/site-packages/matplotlib/axes/_axes.pyc\u001b[0m in \u001b[0;36mhist\u001b[0;34m(self, x, bins, range, normed, weights, cumulative, bottom, histtype, align, orientation, rwidth, log, color, label, stacked, **kwargs)\u001b[0m\n\u001b[1;32m   6008\u001b[0m             \u001b[0;31m# this will automatically overwrite bins,\u001b[0m\u001b[0;34m\u001b[0m\u001b[0;34m\u001b[0m\u001b[0m\n\u001b[1;32m   6009\u001b[0m             \u001b[0;31m# so that each histogram uses the same bins\u001b[0m\u001b[0;34m\u001b[0m\u001b[0;34m\u001b[0m\u001b[0m\n\u001b[0;32m-> 6010\u001b[0;31m             \u001b[0mm\u001b[0m\u001b[0;34m,\u001b[0m \u001b[0mbins\u001b[0m \u001b[0;34m=\u001b[0m \u001b[0mnp\u001b[0m\u001b[0;34m.\u001b[0m\u001b[0mhistogram\u001b[0m\u001b[0;34m(\u001b[0m\u001b[0mx\u001b[0m\u001b[0;34m[\u001b[0m\u001b[0mi\u001b[0m\u001b[0;34m]\u001b[0m\u001b[0;34m,\u001b[0m \u001b[0mbins\u001b[0m\u001b[0;34m,\u001b[0m \u001b[0mweights\u001b[0m\u001b[0;34m=\u001b[0m\u001b[0mw\u001b[0m\u001b[0;34m[\u001b[0m\u001b[0mi\u001b[0m\u001b[0;34m]\u001b[0m\u001b[0;34m,\u001b[0m \u001b[0;34m**\u001b[0m\u001b[0mhist_kwargs\u001b[0m\u001b[0;34m)\u001b[0m\u001b[0;34m\u001b[0m\u001b[0m\n\u001b[0m\u001b[1;32m   6011\u001b[0m             \u001b[0mm\u001b[0m \u001b[0;34m=\u001b[0m \u001b[0mm\u001b[0m\u001b[0;34m.\u001b[0m\u001b[0mastype\u001b[0m\u001b[0;34m(\u001b[0m\u001b[0mfloat\u001b[0m\u001b[0;34m)\u001b[0m  \u001b[0;31m# causes problems later if it's an int\u001b[0m\u001b[0;34m\u001b[0m\u001b[0m\n\u001b[1;32m   6012\u001b[0m             \u001b[0;32mif\u001b[0m \u001b[0mmlast\u001b[0m \u001b[0;32mis\u001b[0m \u001b[0mNone\u001b[0m\u001b[0;34m:\u001b[0m\u001b[0;34m\u001b[0m\u001b[0m\n",
      "\u001b[0;32m/Users/maximebeau/anaconda2/lib/python2.7/site-packages/numpy/lib/function_base.pyc\u001b[0m in \u001b[0;36mhistogram\u001b[0;34m(a, bins, range, normed, weights, density)\u001b[0m\n\u001b[1;32m    500\u001b[0m     \u001b[0;32mif\u001b[0m \u001b[0mmn\u001b[0m \u001b[0;34m>\u001b[0m \u001b[0mmx\u001b[0m\u001b[0;34m:\u001b[0m\u001b[0;34m\u001b[0m\u001b[0m\n\u001b[1;32m    501\u001b[0m         raise ValueError(\n\u001b[0;32m--> 502\u001b[0;31m             'max must be larger than min in range parameter.')\n\u001b[0m\u001b[1;32m    503\u001b[0m     \u001b[0;32mif\u001b[0m \u001b[0;32mnot\u001b[0m \u001b[0mnp\u001b[0m\u001b[0;34m.\u001b[0m\u001b[0mall\u001b[0m\u001b[0;34m(\u001b[0m\u001b[0mnp\u001b[0m\u001b[0;34m.\u001b[0m\u001b[0misfinite\u001b[0m\u001b[0;34m(\u001b[0m\u001b[0;34m[\u001b[0m\u001b[0mmn\u001b[0m\u001b[0;34m,\u001b[0m \u001b[0mmx\u001b[0m\u001b[0;34m]\u001b[0m\u001b[0;34m)\u001b[0m\u001b[0;34m)\u001b[0m\u001b[0;34m:\u001b[0m\u001b[0;34m\u001b[0m\u001b[0m\n\u001b[1;32m    504\u001b[0m         raise ValueError(\n",
      "\u001b[0;31mValueError\u001b[0m: max must be larger than min in range parameter."
     ]
    }
   ],
   "source": [
    "# plot histogram\n",
    "fig = figure(figsize=(6,7))\n",
    "\n",
    "ax = fig.add_subplot(211)\n",
    "ax.hist([mean(diff(MS_MLI.spiketimes[i]))**-1 for i in range(N_MLI)],15,color='#8C2318', edgecolor='w')\n",
    "simpleaxis(ax)\n",
    "tick_params(labelsize=20)\n",
    "#xlabel('Mean firing rate (Hz)', fontsize=20)\n",
    "ylabel('Number of cells', fontsize=20, labelpad=10)\n",
    "#title('MLI mean firing rates', fontsize=20)\n",
    "yticks(arange(0,19,3))\n",
    "\n",
    "\n",
    "tight_layout()\n",
    "fig.subplots_adjust(hspace=.3)\n",
    "fig.savefig('population_rate_histograms_color.tiff',dpi=600*3.35/6)\n",
    "fig.savefig('population_rate_histograms_color.png',dpi=600*3.35/6)"
   ]
  },
  {
   "cell_type": "markdown",
   "metadata": {},
   "source": [
    "# 2) MLI activity with personnal connectivity, with PKJ"
   ]
  },
  {
   "cell_type": "code",
   "execution_count": 3,
   "metadata": {
    "collapsed": true
   },
   "outputs": [],
   "source": [
    "import sys\n",
    "sys.path.append('/Users/maximebeau/Desktop/Science/4_Stage_UCL_WIBR_HAUSSER/My_project/model_PKJ_MLI - Lennon et al., computneur2014')\n",
    "from MLI_PKJ_net import *\n",
    "sys.path.append('/Users/maximebeau/Desktop/Science/4_Stage_UCL_WIBR_HAUSSER/My_project')\n",
    "from MLI_net_personal import *\n",
    "sys.path.append('/Users/maximebeau/Desktop/Science/4_Stage_UCL_WIBR_HAUSSER/My_project/MLI_net_personal')\n",
    "from molecular_layer_geometric import *"
   ]
  },
  {
   "cell_type": "markdown",
   "metadata": {},
   "source": [
    "Create the MLI network"
   ]
  },
  {
   "cell_type": "code",
   "execution_count": 4,
   "metadata": {
    "collapsed": false,
    "scrolled": true
   },
   "outputs": [
    {
     "name": "stderr",
     "output_type": "stream",
     "text": [
      "brian.stateupdater: WARNING  Using codegen CStateUpdater\n",
      "brian.stateupdater: WARNING  Using codegen CStateUpdater\n"
     ]
    },
    {
     "name": "stdout",
     "output_type": "stream",
     "text": [
      "[[MLI_0_0_0, MLI_1_0_1, MLI_2_0_2, MLI_3_0_3, MLI_4_0_4, MLI_5_0_5, MLI_6_0_6, MLI_7_0_7, MLI_8_0_8, MLI_9_0_9, MLI_10_0_10, MLI_11_0_11, MLI_12_0_12, MLI_13_0_13, MLI_14_0_14, MLI_15_0_15], [MLI_16_1_0, MLI_17_1_1, MLI_18_1_2, MLI_19_1_3, MLI_20_1_4, MLI_21_1_5, MLI_22_1_6, MLI_23_1_7, MLI_24_1_8, MLI_25_1_9, MLI_26_1_10, MLI_27_1_11, MLI_28_1_12, MLI_29_1_13, MLI_30_1_14, MLI_31_1_15], [MLI_32_2_0, MLI_33_2_1, MLI_34_2_2, MLI_35_2_3, MLI_36_2_4, MLI_37_2_5, MLI_38_2_6, MLI_39_2_7, MLI_40_2_8, MLI_41_2_9, MLI_42_2_10, MLI_43_2_11, MLI_44_2_12, MLI_45_2_13, MLI_46_2_14, MLI_47_2_15], [MLI_48_3_0, MLI_49_3_1, MLI_50_3_2, MLI_51_3_3, MLI_52_3_4, MLI_53_3_5, MLI_54_3_6, MLI_55_3_7, MLI_56_3_8, MLI_57_3_9, MLI_58_3_10, MLI_59_3_11, MLI_60_3_12, MLI_61_3_13, MLI_62_3_14, MLI_63_3_15], [MLI_64_4_0, MLI_65_4_1, MLI_66_4_2, MLI_67_4_3, MLI_68_4_4, MLI_69_4_5, MLI_70_4_6, MLI_71_4_7, MLI_72_4_8, MLI_73_4_9, MLI_74_4_10, MLI_75_4_11, MLI_76_4_12, MLI_77_4_13, MLI_78_4_14, MLI_79_4_15], [MLI_80_5_0, MLI_81_5_1, MLI_82_5_2, MLI_83_5_3, MLI_84_5_4, MLI_85_5_5, MLI_86_5_6, MLI_87_5_7, MLI_88_5_8, MLI_89_5_9, MLI_90_5_10, MLI_91_5_11, MLI_92_5_12, MLI_93_5_13, MLI_94_5_14, MLI_95_5_15], [MLI_96_6_0, MLI_97_6_1, MLI_98_6_2, MLI_99_6_3, MLI_100_6_4, MLI_101_6_5, MLI_102_6_6, MLI_103_6_7, MLI_104_6_8, MLI_105_6_9, MLI_106_6_10, MLI_107_6_11, MLI_108_6_12, MLI_109_6_13, MLI_110_6_14, MLI_111_6_15], [MLI_112_7_0, MLI_113_7_1, MLI_114_7_2, MLI_115_7_3, MLI_116_7_4, MLI_117_7_5, MLI_118_7_6, MLI_119_7_7, MLI_120_7_8, MLI_121_7_9, MLI_122_7_10, MLI_123_7_11, MLI_124_7_12, MLI_125_7_13, MLI_126_7_14, MLI_127_7_15], [MLI_128_8_0, MLI_129_8_1, MLI_130_8_2, MLI_131_8_3, MLI_132_8_4, MLI_133_8_5, MLI_134_8_6, MLI_135_8_7, MLI_136_8_8, MLI_137_8_9, MLI_138_8_10, MLI_139_8_11, MLI_140_8_12, MLI_141_8_13, MLI_142_8_14, MLI_143_8_15], [MLI_144_9_0, MLI_145_9_1, MLI_146_9_2, MLI_147_9_3, MLI_148_9_4, MLI_149_9_5, MLI_150_9_6, MLI_151_9_7, MLI_152_9_8, MLI_153_9_9, MLI_154_9_10, MLI_155_9_11, MLI_156_9_12, MLI_157_9_13, MLI_158_9_14, MLI_159_9_15]]\n"
     ]
    },
    {
     "data": {
      "text/plain": [
       "'hi'"
      ]
     },
     "execution_count": 4,
     "metadata": {},
     "output_type": "execute_result"
    }
   ],
   "source": [
    "load_saved_synapses = False\n",
    "save_results = False\n",
    "\n",
    "T = 300*second\n",
    "N_PKJ = 16\n",
    "PKJ = PurkinjeCellGroup(N_PKJ)\n",
    "\n",
    "N_MLI_geometric_OX=16 # MLItable \"columns\" : len(MLItable[0])\n",
    "N_MLI_geometric_OY=10 # MLItable \"raws\" : len(MLItable)\n",
    "N_MLI=N_MLI_geometric_OX*N_MLI_geometric_OY\n",
    "GeometricMLI = Geometric_MLI(N_MLI)\n",
    "MLItable = create_MLItable(GeometricMLI, N_MLI_geometric_OX, N_MLI_geometric_OY)\n"
   ]
  },
  {
   "cell_type": "code",
   "execution_count": 5,
   "metadata": {
    "collapsed": false
   },
   "outputs": [
    {
     "ename": "NameError",
     "evalue": "name 'MLItable' is not defined",
     "output_type": "error",
     "traceback": [
      "\u001b[0;31m---------------------------------------------------------------------------\u001b[0m",
      "\u001b[0;31mNameError\u001b[0m                                 Traceback (most recent call last)",
      "\u001b[0;32m<ipython-input-5-ef0d8d652e1a>\u001b[0m in \u001b[0;36m<module>\u001b[0;34m()\u001b[0m\n\u001b[0;32m----> 1\u001b[0;31m \u001b[0mMLItable\u001b[0m\u001b[0;34m\u001b[0m\u001b[0m\n\u001b[0m",
      "\u001b[0;31mNameError\u001b[0m: name 'MLItable' is not defined"
     ]
    }
   ],
   "source": [
    "MLItable"
   ]
  },
  {
   "cell_type": "code",
   "execution_count": null,
   "metadata": {
    "collapsed": true
   },
   "outputs": [],
   "source": []
  },
  {
   "cell_type": "code",
   "execution_count": null,
   "metadata": {
    "collapsed": false
   },
   "outputs": [],
   "source": [
    "# synaptic weights\n",
    "w_mli_pkj = 1.25\n",
    "w_mli_mli = 1.\n",
    "w_pkj_mli = 1.\n",
    "\n",
    "# Synapses\n",
    "S_MLI_PKJ_personal = Synapses(GeometricMLI,PKJ,model='w:1',pre='g_inh+=PKJ.g_inh_*w')\n",
    "S_MLI_MLI_personal = Synapses(GeometricMLI,GeometricMLI,model='w:1',pre='g_inh+=GeometricMLI.g_inh_*w')\n",
    "S_PKJ_MLI_personal = Synapses(PKJ,GeometricMLI,model='w:1',pre='g_inh+=GeometricMLI.g_inh_*w')\n",
    "\n",
    "# Connections\n",
    "if load_saved_synapses:\n",
    "    syn_dir = './'\n",
    "    S_MLI_PKJ_personal = load_synapses(S_MLI_PKJ_personal, 'S_MLI_PKJ_personal', syn_dir)\n",
    "    S_MLI_MLI_personal = load_synapses(S_MLI_MLI_personal, 'S_MLI_MLI_personal', syn_dir)\n",
    "    S_PKJ_MLI_personal = load_synapses(S_PKJ_MLI_personal, 'S_PKJ_MLI_personal', syn_dir)\n",
    "else:\n",
    "    connect_mli_pkj(S_MLI_PKJ_personal,pkj_dist=8,syn_prob=.25)\n",
    "    connect_mli_mli_personal(MLItable, S_MLI_MLI_personal, syn_prob=0.039)\n",
    "    S_PKJ_MLI_personal[:,:] = '((j/(N_MLI/N_PKJ)-i)%N_PKJ <= 2) & ((j/(N_MLI/N_PKJ)-i)%N_PKJ > 0) & (j%(N_MLI/N_PKJ)<3) & (rand()<.5)'\n",
    "    S_MLI_PKJ_personal.w[:,:] = 'rand()*w_mli_pkj'\n",
    "    S_MLI_MLI_personal.w[:,:] = 'rand()*w_mli_mli'\n",
    "    S_PKJ_MLI_personal.w[:,:] = 'rand()*w_pkj_mli'\n",
    "\n",
    "\n",
    "print 'Convergences'\n",
    "print 'MLI->PKJ convergence: ', len(S_MLI_PKJ_personal)/float(N_PKJ)\n",
    "print 'MLI->MLI convergence: ', len(S_MLI_MLI_personal)/float(N_MLI)\n",
    "print 'PKJ->MLI-BS convergence: ', len(S_PKJ_MLI_personal)/(float(N_MLI))\n",
    "print '\\nDivergences'\n",
    "print 'MLI->PKJ divergence: ', len(S_MLI_PKJ_personal)/float(N_MLI)\n",
    "print 'MLI->MLI divergence: ', len(S_MLI_MLI_personal)/float(N_MLI)\n",
    "print 'PKJ->MLI-BS divergence: ', len(S_PKJ_MLI_personal)/float(N_PKJ)"
   ]
  },
  {
   "cell_type": "markdown",
   "metadata": {},
   "source": [
    "Connectivity readout of MLI"
   ]
  },
  {
   "cell_type": "code",
   "execution_count": 19,
   "metadata": {
    "collapsed": false
   },
   "outputs": [],
   "source": [
    "from os import chdir\n",
    "chdir('/Users/maximebeau/Desktop/Science/4_Stage_UCL_WIBR_HAUSSER/My_project/MLI_connectivity_readout')\n",
    "\n",
    "from MLI_connectivity_TableReadout import *\n",
    "\n",
    "write_synapses_table(S_MLI_MLI_personal, 'MLI_table_personal.txt') # write the table neuron x is connected to ...\n",
    "\n",
    "tableTest(S_MLI_MLI_personal) # test that synapses between >80 index units away pairs of neurons exist, like in the table \n",
    "\n",
    "# translateTheMLItable('MLI_table_personal.txt', 'MLI_table_english.txt') # translate it from raw numbers to english for fun\n"
   ]
  },
  {
   "cell_type": "markdown",
   "metadata": {},
   "source": [
    "run the simulation"
   ]
  },
  {
   "cell_type": "code",
   "execution_count": null,
   "metadata": {
    "collapsed": true
   },
   "outputs": [],
   "source": [
    "T = 300*second\n",
    "\n",
    "@network_operation(Clock(dt=defaultclock.dt))\n",
    "def random_current():\n",
    "    GeometricMLI.I = gamma(3.966333,0.006653,size=len(GeometricMLI)) * nA\n",
    "    PKJ.I = gamma(0.430303,0.195962,size=len(PKJ)) * nA\n",
    "\n",
    "# Monitor\n",
    "MS_MLI = SpikeMonitor(GeometricMLI)\n",
    "MR_MLI = PopulationRateMonitor(GeometricMLI,bin=1*ms)\n",
    "MISI_MLI = ISIHistogramMonitor(GeometricMLI,bins=arange(0,162,2)*ms)\n",
    "MV_MLI = StateMonitor(GeometricMLI, 'V', record=range(N_MLI))\n",
    "\n",
    "MS_PKJ = SpikeMonitor(PKJ)\n",
    "MR_PKJ = PopulationRateMonitor(PKJ,bin=1*ms)\n",
    "MISI_PKJ = ISIHistogramMonitor(PKJ,bins=arange(0,162,2)*ms)\n",
    "MV_PKJ = StateMonitor(PKJ, 'V', record=range(N_PKJ))\n",
    "\n",
    "start = time.time()\n",
    "run(T)\n",
    "print time.time() - start"
   ]
  },
  {
   "cell_type": "markdown",
   "metadata": {},
   "source": [
    "plot the figures to readout the connectivity"
   ]
  },
  {
   "cell_type": "code",
   "execution_count": null,
   "metadata": {
    "collapsed": true
   },
   "outputs": [],
   "source": [
    "chdir('/Users/maximebeau/Desktop/Science/4_Stage_UCL_WIBR_HAUSSER/My_project/figures/2_personal_PKJ')"
   ]
  },
  {
   "cell_type": "code",
   "execution_count": null,
   "metadata": {
    "collapsed": true
   },
   "outputs": [],
   "source": [
    "ind, mean_fr, isi_cv, err = find_closest_match_neuron(MS_MLI, 15., .40)\n",
    "\n",
    "# Plot ISI\n",
    "fig = figure(figsize=(25,5))\n",
    "ax = fig.add_subplot(131)\n",
    "MV_MLI.insert_spikes(MS_MLI)\n",
    "ax.plot(MV_MLI.times[:6000],(MV_MLI.values[ind,:6000]), color='#8C2318')\n",
    "xlim([-.1,1.5])\n",
    "add_scalebar(ax)\n",
    "ax.spines['top'].set_visible(False)\n",
    "ax.spines['right'].set_visible(False)\n",
    "ax.spines['left'].set_visible(False)\n",
    "ax.spines['bottom'].set_visible(False)\n",
    "\n",
    "ax = fig.add_subplot(132)\n",
    "plot_neuron_ISI_histogram(MS_MLI, ind, ax, xytext=(100,400),nbins=80, color='#8C2318', edgecolor='w') \n",
    "xlim([0,200])\n",
    "simpleaxis(ax)\n",
    "tick_params(labelsize=18)\n",
    "xlabel('ISI (ms)', fontsize=20)\n",
    "ylabel('Count', fontsize=20)\n",
    "\n",
    "# Plot spike autocorrelation\n",
    "ax = fig.add_subplot(133)\n",
    "plot_spike_correlogram(MS_MLI.spiketimes[ind],MS_MLI.spiketimes[ind], bin=1*ms, width=200*ms,ax=ax, color='#8C2318')\n",
    "simpleaxis(ax)\n",
    "tick_params(labelsize=18)\n",
    "\n",
    "tight_layout()\n",
    "fig.subplots_adjust(wspace=.3)\n",
    "fig.savefig('MLI_net_color.tiff',dpi=600*6.93/25)\n",
    "fig.savefig('MLI_net_color.png',dpi=600*6.93/25)"
   ]
  },
  {
   "cell_type": "code",
   "execution_count": null,
   "metadata": {
    "collapsed": true
   },
   "outputs": [],
   "source": [
    "from scipy.stats import spearmanr\n",
    "\n",
    "def population_fr_stats(spike_monitor):\n",
    "    mean_frs = []\n",
    "    for ind in range(len(spike_monitor.spiketimes)):\n",
    "        mean_frs.append(mean(diff(spike_monitor.spiketimes[ind]))**-1)\n",
    "    return mean(mean_frs), std(mean_frs), max(mean_frs), min(mean_frs), mean_frs\n",
    "\n",
    "def population_isi_cv_stats(spike_monitor):\n",
    "    cvs = []\n",
    "    for ind in range(len(spike_monitor.spiketimes)):\n",
    "        isi_mean, isi_std = isi_mean_and_std(spike_monitor, ind)\n",
    "        cvs.append(isi_std/isi_mean)\n",
    "    return mean(cvs), std(cvs), max(cvs), min(cvs), cvs\n",
    "\n",
    "m,s,ma,mi,frs = population_fr_stats(MS_MLI)\n",
    "print 'Mean MLI FR: %s, Std: %s, Max: %s, Min: %s'%(m,s,ma,mi)\n",
    "m,s,ma,mi,cvs = population_isi_cv_stats(MS_MLI)        \n",
    "print 'Mean MLI CV: %s, Std: %s, Max: %s, Min: %s'%(m,s,ma,mi)\n",
    "print \"MLI FR-CV correlation.  Spearman's R: %s, p = %s\" % spearmanr(frs,cvs)\n",
    "m,s,ma,mi,frs = population_fr_stats(MS_PKJ)\n",
    "print 'Mean PKJ FR: %s, Std: %s, Max: %s, Min: %s'%(m,s,ma,mi)\n",
    "m,s,ma,mi,cvs = population_isi_cv_stats(MS_PKJ)        \n",
    "print 'Mean PKJ CV: %s, Std: %s, Max: %s, Min: %s'%(m,s,ma,mi)\n",
    "print \"PKJ FR-CV correlation.  Spearman's R: %s, p = %s\" % spearmanr(frs,cvs)"
   ]
  },
  {
   "cell_type": "code",
   "execution_count": null,
   "metadata": {
    "collapsed": true
   },
   "outputs": [],
   "source": [
    "# plot histogram\n",
    "fig = figure(figsize=(6,7))\n",
    "\n",
    "ax = fig.add_subplot(211)\n",
    "ax.hist([mean(diff(MS_MLI.spiketimes[i]))**-1 for i in range(N_MLI)],15,color='#8C2318', edgecolor='w')\n",
    "simpleaxis(ax)\n",
    "tick_params(labelsize=20)\n",
    "#xlabel('Mean firing rate (Hz)', fontsize=20)\n",
    "ylabel('Number of cells', fontsize=20, labelpad=10)\n",
    "#title('MLI mean firing rates', fontsize=20)\n",
    "yticks(arange(0,19,3))\n",
    "\n",
    "ax = fig.add_subplot(212)\n",
    "counts, bins, _ = ax.hist([mean(diff(MS_PKJ.spiketimes[i]))**-1 for i in range(N_PKJ)],9,color='#0B486B',edgecolor='w')\n",
    "simpleaxis(ax)\n",
    "tick_params(labelsize=20)\n",
    "xlabel('Mean firing rate (Hz)', fontsize=20)\n",
    "ylabel('Number of cells', fontsize=20, labelpad=10)\n",
    "#title('PKJ mean firing rates', fontsize=20)\n",
    "yticks(range(int(counts.max()+1)))\n",
    "\n",
    "tight_layout()\n",
    "fig.subplots_adjust(hspace=.3)\n",
    "fig.savefig('population_rate_histograms_color.tiff',dpi=600*3.35/6)\n",
    "fig.savefig('population_rate_histograms_color.png',dpi=600*3.35/6)"
   ]
  },
  {
   "cell_type": "markdown",
   "metadata": {
    "collapsed": true
   },
   "source": [
    "# 3) MLI activity with personnal connectivity, no PKJ"
   ]
  },
  {
   "cell_type": "markdown",
   "metadata": {},
   "source": [
    "Create the MLI network"
   ]
  },
  {
   "cell_type": "code",
   "execution_count": 2,
   "metadata": {
    "collapsed": false
   },
   "outputs": [
    {
     "name": "stderr",
     "output_type": "stream",
     "text": [
      "brian.stateupdater: WARNING  Using codegen CStateUpdater\n"
     ]
    },
    {
     "name": "stdout",
     "output_type": "stream",
     "text": [
      "MLI->MLI convergence:  4.0125\n",
      "MLI->MLI divergence:  4.0125\n",
      "66.4431819916\n"
     ]
    }
   ],
   "source": [
    "load_saved_synapses = False\n",
    "save_results = False\n",
    "\n",
    "T = 300*second\n",
    "\n",
    "N_MLI_geometric_OX=10 # MLItable \"columns\" : len(MLItable[0])\n",
    "N_MLI_geometric_OY=16 # MLItable \"raws\" : len(MLItable)\n",
    "N_MLI=N_MLI_geometric_OX*N_MLI_geometric_OY\n",
    "GeometricMLI = GeometricGroup(N_MLI)\n",
    "create_MLItable(GeometricMLI, N_MLI_geometric_OX, N_MLI_geometric_OY)\n"
   ]
  },
  {
   "cell_type": "code",
   "execution_count": null,
   "metadata": {
    "collapsed": true
   },
   "outputs": [],
   "source": [
    "# synaptic weights\n",
    "w_mli_mli = 1.\n",
    "\n",
    "# Synapses\n",
    "S_MLI_MLI_personal = Synapses(GeometricMLI,GeometricMLI,model='w:1',pre='g_inh+=GeometricMLI.g_inh_*w')\n",
    "\n",
    "# Connections\n",
    "if load_saved_synapses:\n",
    "    syn_dir = './'\n",
    "    S_MLI_MLI_personal = load_synapses(S_MLI_MLI_personal, 'S_MLI_MLI_personal', syn_dir)\n",
    "else:\n",
    "    connect_mli_mli_personal(MLItable, S_MLI_MLI_personal, syn_prob=0.039)\n",
    "    S_MLI_MLI_personal.w[:,:] = 'rand()*w_mli_mli'\n",
    "\n",
    "\n",
    "print 'Convergences'\n",
    "print 'MLI->MLI convergence: ', len(S_MLI_MLI_personal)/float(N_MLI)\n",
    "print '\\nDivergences'\n",
    "print 'MLI->MLI divergence: ', len(S_MLI_MLI_personal)/float(N_MLI)"
   ]
  },
  {
   "cell_type": "markdown",
   "metadata": {},
   "source": [
    "Connectivity readout of MLI"
   ]
  },
  {
   "cell_type": "code",
   "execution_count": 19,
   "metadata": {
    "collapsed": false
   },
   "outputs": [],
   "source": [
    "from os import chdir\n",
    "chdir('/Users/maximebeau/Desktop/Science/4_Stage_UCL_WIBR_HAUSSER/My_project/MLI_connectivity_readout')\n",
    "\n",
    "from MLI_connectivity_TableReadout import *\n",
    "\n",
    "write_synapses_table(S_MLI_MLI_personal, 'MLI_table_personal.txt') # write the table neuron x is connected to ...\n",
    "\n",
    "tableTest(S_MLI_MLI_personal) # test that synapses between >80 index units away pairs of neurons exist, like in the table \n",
    "\n",
    "# translateTheMLItable('MLI_table_personal.txt', 'MLI_table_english.txt') # translate it from raw numbers to english for fun\n"
   ]
  },
  {
   "cell_type": "markdown",
   "metadata": {},
   "source": [
    "run the simulation"
   ]
  },
  {
   "cell_type": "code",
   "execution_count": null,
   "metadata": {
    "collapsed": true
   },
   "outputs": [],
   "source": [
    "T = 300*second\n",
    "\n",
    "@network_operation(Clock(dt=defaultclock.dt))\n",
    "def random_current():\n",
    "    GeometricMLI.I = gamma(3.966333,0.006653,size=len(GeometricMLI)) * nA\n",
    "\n",
    "# Monitor\n",
    "MS_MLI = SpikeMonitor(GeometricMLI)\n",
    "MR_MLI = PopulationRateMonitor(GeometricMLI,bin=1*ms)\n",
    "MISI_MLI = ISIHistogramMonitor(GeometricMLI,bins=arange(0,162,2)*ms)\n",
    "MV_MLI = StateMonitor(GeometricMLI, 'V', record=range(N_MLI))\n",
    "\n",
    "start = time.time()\n",
    "run(T)\n",
    "print time.time() - start"
   ]
  },
  {
   "cell_type": "markdown",
   "metadata": {},
   "source": [
    "plot the figures to readout the connectivity"
   ]
  },
  {
   "cell_type": "code",
   "execution_count": null,
   "metadata": {
    "collapsed": true
   },
   "outputs": [],
   "source": [
    "chdir('/Users/maximebeau/Desktop/Science/4_Stage_UCL_WIBR_HAUSSER/My_project/figures/3_personal_noPKJ')"
   ]
  },
  {
   "cell_type": "code",
   "execution_count": null,
   "metadata": {
    "collapsed": true
   },
   "outputs": [],
   "source": [
    "ind, mean_fr, isi_cv, err = find_closest_match_neuron(MS_MLI, 15., .40)\n",
    "\n",
    "# Plot ISI\n",
    "fig = figure(figsize=(25,5))\n",
    "ax = fig.add_subplot(131)\n",
    "MV_MLI.insert_spikes(MS_MLI)\n",
    "ax.plot(MV_MLI.times[:6000],(MV_MLI.values[ind,:6000]), color='#8C2318')\n",
    "xlim([-.1,1.5])\n",
    "add_scalebar(ax)\n",
    "ax.spines['top'].set_visible(False)\n",
    "ax.spines['right'].set_visible(False)\n",
    "ax.spines['left'].set_visible(False)\n",
    "ax.spines['bottom'].set_visible(False)\n",
    "\n",
    "ax = fig.add_subplot(132)\n",
    "plot_neuron_ISI_histogram(MS_MLI, ind, ax, xytext=(100,400),nbins=80, color='#8C2318', edgecolor='w') \n",
    "xlim([0,200])\n",
    "simpleaxis(ax)\n",
    "tick_params(labelsize=18)\n",
    "xlabel('ISI (ms)', fontsize=20)\n",
    "ylabel('Count', fontsize=20)\n",
    "\n",
    "# Plot spike autocorrelation\n",
    "ax = fig.add_subplot(133)\n",
    "plot_spike_correlogram(MS_MLI.spiketimes[ind],MS_MLI.spiketimes[ind], bin=1*ms, width=200*ms,ax=ax, color='#8C2318')\n",
    "simpleaxis(ax)\n",
    "tick_params(labelsize=18)\n",
    "\n",
    "tight_layout()\n",
    "fig.subplots_adjust(wspace=.3)\n",
    "fig.savefig('MLI_net_color.tiff',dpi=600*6.93/25)\n",
    "fig.savefig('MLI_net_color.png',dpi=600*6.93/25)"
   ]
  },
  {
   "cell_type": "code",
   "execution_count": null,
   "metadata": {
    "collapsed": true
   },
   "outputs": [],
   "source": [
    "from scipy.stats import spearmanr\n",
    "\n",
    "def population_fr_stats(spike_monitor):\n",
    "    mean_frs = []\n",
    "    for ind in range(len(spike_monitor.spiketimes)):\n",
    "        mean_frs.append(mean(diff(spike_monitor.spiketimes[ind]))**-1)\n",
    "    return mean(mean_frs), std(mean_frs), max(mean_frs), min(mean_frs), mean_frs\n",
    "\n",
    "def population_isi_cv_stats(spike_monitor):\n",
    "    cvs = []\n",
    "    for ind in range(len(spike_monitor.spiketimes)):\n",
    "        isi_mean, isi_std = isi_mean_and_std(spike_monitor, ind)\n",
    "        cvs.append(isi_std/isi_mean)\n",
    "    return mean(cvs), std(cvs), max(cvs), min(cvs), cvs\n",
    "\n",
    "m,s,ma,mi,frs = population_fr_stats(MS_MLI)\n",
    "print 'Mean MLI FR: %s, Std: %s, Max: %s, Min: %s'%(m,s,ma,mi)\n",
    "m,s,ma,mi,cvs = population_isi_cv_stats(MS_MLI)        \n",
    "print 'Mean MLI CV: %s, Std: %s, Max: %s, Min: %s'%(m,s,ma,mi)\n",
    "print \"MLI FR-CV correlation.  Spearman's R: %s, p = %s\" % spearmanr(frs,cvs)"
   ]
  },
  {
   "cell_type": "code",
   "execution_count": null,
   "metadata": {
    "collapsed": true
   },
   "outputs": [],
   "source": [
    "# plot histogram\n",
    "fig = figure(figsize=(6,7))\n",
    "\n",
    "ax = fig.add_subplot(211)\n",
    "ax.hist([mean(diff(MS_MLI.spiketimes[i]))**-1 for i in range(N_MLI)],15,color='#8C2318', edgecolor='w')\n",
    "simpleaxis(ax)\n",
    "tick_params(labelsize=20)\n",
    "#xlabel('Mean firing rate (Hz)', fontsize=20)\n",
    "ylabel('Number of cells', fontsize=20, labelpad=10)\n",
    "#title('MLI mean firing rates', fontsize=20)\n",
    "yticks(arange(0,19,3))\n",
    "\n",
    "\n",
    "tight_layout()\n",
    "fig.subplots_adjust(hspace=.3)\n",
    "fig.savefig('population_rate_histograms_color.tiff',dpi=600*3.35/6)\n",
    "fig.savefig('population_rate_histograms_color.png',dpi=600*3.35/6)"
   ]
  }
 ],
 "metadata": {
  "anaconda-cloud": {},
  "kernelspec": {
   "display_name": "Python [Root]",
   "language": "python",
   "name": "Python [Root]"
  },
  "language_info": {
   "codemirror_mode": {
    "name": "ipython",
    "version": 2
   },
   "file_extension": ".py",
   "mimetype": "text/x-python",
   "name": "python",
   "nbconvert_exporter": "python",
   "pygments_lexer": "ipython2",
   "version": "2.7.12"
  }
 },
 "nbformat": 4,
 "nbformat_minor": 0
}
