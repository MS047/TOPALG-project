{
 "cells": [
  {
   "cell_type": "markdown",
   "metadata": {},
   "source": [
    "This notebook imports its data from MLI_net_personnal directory, which contains only the necessary parts of Lennon model to create a minimal MLI network... modified in order to attribute \n",
    "- a geometry to the network : 2D grid of point MLIs\n",
    "- a different distance-dependancy of the connection probability : the geometry isn't linear anymore so the axon projection over 500um "
   ]
  },
  {
   "cell_type": "code",
   "execution_count": 22,
   "metadata": {
    "collapsed": false
   },
   "outputs": [],
   "source": [
    "# GET RID OF WHAT'S USELESS\n",
    "import datetime\n",
    "import os\n",
    "from brian import *\n",
    "import sys\n",
    "sys.path.append('/Users/maximebeau/Desktop/Science/4_Stage_UCL_WIBR_HAUSSER/My_project')\n",
    "sys.path.append('/Users/maximebeau/Desktop/Science/4_Stage_UCL_WIBR_HAUSSER/My_project/MLI_net_personal')\n",
    "from MLI_net_personal import *\n",
    "import cPickle\n",
    "import time\n",
    "set_global_preferences(useweave=True, usenewpropagate=True, usecodegen=True, usecodegenweave=True)\n",
    "defaultclock.dt = .25*ms\n",
    "from statsmodels.tsa.stattools import acf\n",
    "from pandas import *"
   ]
  },
  {
   "cell_type": "markdown",
   "metadata": {},
   "source": [
    "# Creating the MLI 2D network (now in the create_MLItable function)"
   ]
  },
  {
   "cell_type": "markdown",
   "metadata": {},
   "source": [
    "We use 1 MLI subgroups of a MLIGroup which are\n",
    "- disposed within a table\n",
    "- have (x,y) coordinates given as an attribute, in function of their situation in the table\n",
    "\n",
    ">neurons can be accessed through the table\n",
    "\n",
    ">neurons can be accessed through their x, y attributes\n",
    "\n",
    "for i in range(N):\n",
    "    if GeometricGroup[i,i+1].x==Xvalue & GeometricGroup[i,i+1].y==Yvalue:\n",
    "        print(GeometricGroup[i,i+1]\n",
    "\n",
    "\n",
    ">neurons can be accessed through their index within the big MLI group\n"
   ]
  },
  {
   "cell_type": "code",
   "execution_count": 23,
   "metadata": {
    "collapsed": false,
    "scrolled": true
   },
   "outputs": [
    {
     "name": "stderr",
     "output_type": "stream",
     "text": [
      "brian.stateupdater: WARNING  Using codegen CStateUpdater\n"
     ]
    },
    {
     "name": "stdout",
     "output_type": "stream",
     "text": [
      "MLIGroup of 10 neurons\n",
      "-53.0 mV\n"
     ]
    }
   ],
   "source": [
    "# example of subgroup\n",
    "H = MLIGroup(10)\n",
    "h=H[0:1] # will take MLIGroup neuron 0\n",
    "print(H)\n",
    "print(h.Vth)"
   ]
  },
  {
   "cell_type": "code",
   "execution_count": 26,
   "metadata": {
    "collapsed": false
   },
   "outputs": [
    {
     "name": "stderr",
     "output_type": "stream",
     "text": [
      "brian.stateupdater: WARNING  Using codegen CStateUpdater\n"
     ]
    },
    {
     "name": "stdout",
     "output_type": "stream",
     "text": [
      "[[MLI_0_0_0, MLI_1_0_1, MLI_2_0_2, MLI_3_0_3, MLI_4_0_4, MLI_5_0_5, MLI_6_0_6, MLI_7_0_7, MLI_8_0_8, MLI_9_0_9], [MLI_10_1_0, MLI_11_1_1, MLI_12_1_2, MLI_13_1_3, MLI_14_1_4, MLI_15_1_5, MLI_16_1_6, MLI_17_1_7, MLI_18_1_8, MLI_19_1_9], [MLI_20_2_0, MLI_21_2_1, MLI_22_2_2, MLI_23_2_3, MLI_24_2_4, MLI_25_2_5, MLI_26_2_6, MLI_27_2_7, MLI_28_2_8, MLI_29_2_9], [MLI_30_3_0, MLI_31_3_1, MLI_32_3_2, MLI_33_3_3, MLI_34_3_4, MLI_35_3_5, MLI_36_3_6, MLI_37_3_7, MLI_38_3_8, MLI_39_3_9], [MLI_40_4_0, MLI_41_4_1, MLI_42_4_2, MLI_43_4_3, MLI_44_4_4, MLI_45_4_5, MLI_46_4_6, MLI_47_4_7, MLI_48_4_8, MLI_49_4_9], [MLI_50_5_0, MLI_51_5_1, MLI_52_5_2, MLI_53_5_3, MLI_54_5_4, MLI_55_5_5, MLI_56_5_6, MLI_57_5_7, MLI_58_5_8, MLI_59_5_9], [MLI_60_6_0, MLI_61_6_1, MLI_62_6_2, MLI_63_6_3, MLI_64_6_4, MLI_65_6_5, MLI_66_6_6, MLI_67_6_7, MLI_68_6_8, MLI_69_6_9], [MLI_70_7_0, MLI_71_7_1, MLI_72_7_2, MLI_73_7_3, MLI_74_7_4, MLI_75_7_5, MLI_76_7_6, MLI_77_7_7, MLI_78_7_8, MLI_79_7_9], [MLI_80_8_0, MLI_81_8_1, MLI_82_8_2, MLI_83_8_3, MLI_84_8_4, MLI_85_8_5, MLI_86_8_6, MLI_87_8_7, MLI_88_8_8, MLI_89_8_9], [MLI_90_9_0, MLI_91_9_1, MLI_92_9_2, MLI_93_9_3, MLI_94_9_4, MLI_95_9_5, MLI_96_9_6, MLI_97_9_7, MLI_98_9_8, MLI_99_9_9]]\n"
     ]
    }
   ],
   "source": [
    "from molecular_layer_geometric import *\n",
    "\n",
    "# Creation of a table with N_MLI_geometric_OX \"raws\" and N_MLI_geometric_OY \"columns\"\n",
    "# Filling of this table with Geometric_MLI SUBGROUPS : the column and raw indexes are equivalent to their x and y coordinates\n",
    "N_MLI_geometric_OX=10 # MLItable \"columns\" : len(MLItable[0])\n",
    "N_MLI_geometric_OY=10 # MLItable \"raws\" : len(MLItable)\n",
    "N_MLI=N_MLI_geometric_OX*N_MLI_geometric_OY\n",
    "\n",
    "GeometricGroup=Geometric_MLI(N=N_MLI) # default coordinates : (0,0)\n",
    "\n",
    "create_MLItable(GeometricGroup, N_MLI_geometric_OX, N_MLI_geometric_OY)\n"
   ]
  },
  {
   "cell_type": "code",
   "execution_count": 9,
   "metadata": {
    "collapsed": false
   },
   "outputs": [
    {
     "name": "stdout",
     "output_type": "stream",
     "text": [
      "0\n",
      "Size 1 subgroup of Geometric_MLI\n",
      "3\n",
      "----------\n",
      "0\n",
      "Size 1 subgroup of Geometric_MLI\n",
      "0\n"
     ]
    }
   ],
   "source": [
    "# Test : WTF ? Why can't subgroups attributes be definitely modified ?\n",
    "G=GeometricGroup[1:2]\n",
    "print(G.x)\n",
    "G.x=3\n",
    "print(G)\n",
    "print(G.x)\n",
    "\n",
    "print('----------')\n",
    "\n",
    "print(GeometricGroup[1:2].x)\n",
    "GeometricGroup[1:2].x=3\n",
    "print(GeometricGroup[1:2])\n",
    "print(GeometricGroup[1:2].x)\n",
    "\n"
   ]
  },
  {
   "cell_type": "code",
   "execution_count": 27,
   "metadata": {
    "collapsed": false
   },
   "outputs": [
    {
     "name": "stdout",
     "output_type": "stream",
     "text": [
      "MLI->MLI convergence:  3.79\n",
      "MLI->MLI divergence:  3.79\n"
     ]
    }
   ],
   "source": [
    "from MLI_net_personal import *\n",
    "\n",
    "w_mli_mli = 1.\n",
    "S_MLI_MLI = Synapses(GeometricGroup,GeometricGroup,model='w:1',pre='g_inh+=MLI.g_inh_*w')\n",
    "connect_mli_mli_personal(MLItable, S_MLI_MLI, syn_prob=0.039)\n",
    "S_MLI_MLI.w[:,:] = 'rand()*w_mli_mli'\n",
    "print 'MLI->MLI convergence: ', len(S_MLI_MLI)/float(N_MLI)\n",
    "print 'MLI->MLI divergence: ', len(S_MLI_MLI)/float(N_MLI)\n"
   ]
  },
  {
   "cell_type": "markdown",
   "metadata": {},
   "source": [
    "# a readout for these MLI connectivity"
   ]
  },
  {
   "cell_type": "markdown",
   "metadata": {},
   "source": [
    "readout as a table"
   ]
  },
  {
   "cell_type": "code",
   "execution_count": 28,
   "metadata": {
    "collapsed": false
   },
   "outputs": [],
   "source": [
    "from os import chdir\n",
    "chdir('/Users/maximebeau/Desktop/Science/4_Stage_UCL_WIBR_HAUSSER/My_project/MLI_connectivity_readout')\n",
    "\n",
    "from MLI_connectivity_TableReadout import *\n",
    "\n",
    "write_synapses_table(S_MLI_MLI, 'MLI_table_personal.txt') # write the table neuron x is connected to ...\n",
    "\n",
    "translateTheMLItable('MLI_table_personal.txt', 'MLI_table_personal_english.txt') # translate it from raw numbers to english for fun\n"
   ]
  },
  {
   "cell_type": "markdown",
   "metadata": {},
   "source": [
    "readout as a plot"
   ]
  },
  {
   "cell_type": "code",
   "execution_count": null,
   "metadata": {
    "collapsed": true
   },
   "outputs": [],
   "source": [
    "# Brian2 ; not working\n",
    "'''def visualise_connectivity(S):\n",
    "    Ns = len(S.source)\n",
    "    Nt = len(S.target)\n",
    "    figure(figsize=(10, 4))\n",
    "    subplot(121)\n",
    "    plot(zeros(Ns), arange(Ns), 'ok', ms=10)\n",
    "    plot(ones(Nt), arange(Nt), 'ok', ms=10)\n",
    "    for i, j in zip(S.i, S.j):\n",
    "        plot([0, 1], [i, j], '-k')\n",
    "    xticks([0, 1], ['Source', 'Target'])\n",
    "    ylabel('Neuron index')\n",
    "    xlim(-0.1, 1.1)\n",
    "    ylim(-1, max(Ns, Nt))\n",
    "    subplot(122)\n",
    "    plot(S.i, S.j, 'ok')\n",
    "    xlim(-1, Ns)\n",
    "    ylim(-1, Nt)\n",
    "    xlabel('Source neuron index')\n",
    "    ylabel('Target neuron index')\n",
    "    \n",
    "visualise_connectivity(S)'''"
   ]
  },
  {
   "cell_type": "markdown",
   "metadata": {},
   "source": [
    "# A way to sample those MLI"
   ]
  },
  {
   "cell_type": "markdown",
   "metadata": {},
   "source": [
    "In order to compare their connectivity patterns to Sarah's experimental data, we need to sample those fake MLIs in a sqare of a certain size. First choose the square, then infer indexes of MLIs inside that square, then screen them to obtain the table of their connections (use the "
   ]
  }
 ],
 "metadata": {
  "anaconda-cloud": {},
  "kernelspec": {
   "display_name": "Python [Root]",
   "language": "python",
   "name": "Python [Root]"
  },
  "language_info": {
   "codemirror_mode": {
    "name": "ipython",
    "version": 2
   },
   "file_extension": ".py",
   "mimetype": "text/x-python",
   "name": "python",
   "nbconvert_exporter": "python",
   "pygments_lexer": "ipython2",
   "version": "2.7.12"
  }
 },
 "nbformat": 4,
 "nbformat_minor": 0
}
